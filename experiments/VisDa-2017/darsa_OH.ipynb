{
 "cells": [
  {
   "cell_type": "code",
   "execution_count": null,
   "id": "f49c5cad-4ce8-4cb3-b6ba-97e2e68650d5",
   "metadata": {},
   "outputs": [],
   "source": [
    "import sys\n",
    "sys.path.insert(0, '../../')\n",
    "sys.path.append('/datacommons/carlsonlab/yl407/packages')\n",
    "import random\n",
    "import time\n",
    "import warnings\n",
    "import argparse\n",
    "import shutil\n",
    "import os.path as osp\n",
    "import os\n",
    "from utils.helperOH import *\n",
    "import data.officehome as datasets\n",
    "import models.model_resnet as models\n",
    "import timm\n",
    "from torch.utils.data import DataLoader\n",
    "from models.model_office_home import *"
   ]
  },
  {
   "cell_type": "code",
   "execution_count": null,
   "id": "263810b2-cfe3-4f6b-b6ef-ac1369bb0d66",
   "metadata": {},
   "outputs": [],
   "source": [
    "##create label shifting\n",
    "import pandas as pd\n",
    "import random\n",
    "# Set the seed for reproducibility\n",
    "random.seed(42)\n",
    "np.random.seed(42)\n",
    "num_samples_per_even_group = 20\n",
    "num_samples_per_odd_group = 40\n",
    "\n",
    "df = pd.read_csv('/datacommons/carlsonlab/yl407/office_home_imbalance/image_list/Real_World.txt',sep=\" \",header = None)\n",
    "df_art= df.rename({0: \"location\", 1: \"group\"},axis=1)\n",
    "# create an empty list to hold the sampled data\n",
    "source_data = []\n",
    "# iterate over each unique group in the DataFrame\n",
    "df = df_art\n",
    "for i in range(65):\n",
    "    if i % 2 == 0:\n",
    "        sampled_rows = df.loc[df['group'] == i].sample(n=num_samples_per_even_group, replace=False)\n",
    "    if i % 2 == 1:\n",
    "        sampled_rows = df.loc[df['group'] == i].sample(n=num_samples_per_odd_group, replace=False)\n",
    "    # append the sampled rows to the list\n",
    "    source_data.append(sampled_rows)\n",
    "# concatenate the sampled data into a new DataFrame\n",
    "source_df = pd.concat(source_data)\n",
    "print(source_df.shape)\n",
    "# print the resulting DataFrame\n",
    "np.savetxt('/datacommons/carlsonlab/yl407/office_home_imbalance/image_list/Real_World_s.txt',source_df.values,fmt='%s', delimiter=' ')\n",
    "#np.savetxt('/datacommons/carlsonlab/yl407/VOCdevkit/VOC2012/ImageSets/Segmentation/test.txt',df_test.values,fmt='%s', delimiter='\\t')"
   ]
  },
  {
   "cell_type": "code",
   "execution_count": null,
   "id": "b309b9aa-2848-4d30-ae3e-5e080f654522",
   "metadata": {},
   "outputs": [],
   "source": [
    "##create label shifting\n",
    "import pandas as pd\n",
    "import random\n",
    "# Set the seed for reproducibility\n",
    "random.seed(42)\n",
    "np.random.seed(42)\n",
    "num_samples_per_even_group = 22\n",
    "num_samples_per_odd_group = 11\n",
    "\n",
    "df = pd.read_csv('/datacommons/carlsonlab/yl407/office_home_imbalance/image_list/Real_World.txt',sep=\" \",header = None)\n",
    "df_art= df.rename({0: \"location\", 1: \"group\"},axis=1)\n",
    "# create an empty list to hold the sampled data\n",
    "source_data = []\n",
    "# iterate over each unique group in the DataFrame\n",
    "df = df_art\n",
    "for i in range(65):\n",
    "    if i % 2 == 0:\n",
    "        sampled_rows = df.loc[df['group'] == i].sample(n=num_samples_per_even_group, replace=False)\n",
    "    if i % 2 == 1:\n",
    "        sampled_rows = df.loc[df['group'] == i].sample(n=num_samples_per_odd_group, replace=False)\n",
    "    # append the sampled rows to the list\n",
    "    source_data.append(sampled_rows)\n",
    "# concatenate the sampled data into a new DataFrame\n",
    "source_df = pd.concat(source_data)\n",
    "print(source_df.shape)\n",
    "# print the resulting DataFrame\n",
    "np.savetxt('/datacommons/carlsonlab/yl407/office_home_imbalance/image_list/Real_World_t.txt',source_df.values,fmt='%s', delimiter=' ')\n",
    "#np.savetxt('/datacommons/carlsonlab/yl407/VOCdevkit/VOC2012/ImageSets/Segmentation/test.txt',df_test.values,fmt='%s', delimiter='\\t')"
   ]
  },
  {
   "cell_type": "code",
   "execution_count": null,
   "id": "d59aefdc-4079-4b0e-8459-0e32a4fc72d0",
   "metadata": {},
   "outputs": [],
   "source": [
    "##create label shifting\n",
    "import pandas as pd\n",
    "import random\n",
    "# Set the seed for reproducibility\n",
    "random.seed(42)\n",
    "np.random.seed(42)\n",
    "num_samples_per_even_group = 20\n",
    "num_samples_per_odd_group = 40\n",
    "\n",
    "df = pd.read_csv('/datacommons/carlsonlab/yl407/office_home_imbalance/image_list/Product.txt',sep=\" \",header = None)\n",
    "df_art= df.rename({0: \"location\", 1: \"group\"},axis=1)\n",
    "# create an empty list to hold the sampled data\n",
    "source_data = []\n",
    "# iterate over each unique group in the DataFrame\n",
    "df = df_art\n",
    "for i in range(65):\n",
    "    if i % 2 == 0:\n",
    "        sampled_rows = df.loc[df['group'] == i].sample(n=num_samples_per_even_group, replace=False)\n",
    "    if i % 2 == 1:\n",
    "        sampled_rows = df.loc[df['group'] == i].sample(n=num_samples_per_odd_group, replace=False)\n",
    "    # append the sampled rows to the list\n",
    "    source_data.append(sampled_rows)\n",
    "# concatenate the sampled data into a new DataFrame\n",
    "source_df = pd.concat(source_data)\n",
    "print(source_df.shape)\n",
    "# print the resulting DataFrame\n",
    "np.savetxt('/datacommons/carlsonlab/yl407/office_home_imbalance/image_list/Product_s.txt',source_df.values,fmt='%s', delimiter=' ')\n",
    "#np.savetxt('/datacommons/carlsonlab/yl407/VOCdevkit/VOC2012/ImageSets/Segmentation/test.txt',df_test.values,fmt='%s', delimiter='\\t')"
   ]
  },
  {
   "cell_type": "code",
   "execution_count": null,
   "id": "7d9caf92-18b7-4c60-94e4-84e2a1c3f409",
   "metadata": {},
   "outputs": [],
   "source": [
    "# Set the seed for reproducibility\n",
    "random.seed(42)\n",
    "np.random.seed(42)\n",
    "num_samples_per_even_group = 36\n",
    "num_samples_per_odd_group = 18\n",
    "\n",
    "df = pd.read_csv('/datacommons/carlsonlab/yl407/office_home_imbalance/image_list/Product.txt',sep=\" \",header = None)\n",
    "df_art= df.rename({0: \"location\", 1: \"group\"},axis=1)\n",
    "# create an empty list to hold the sampled data\n",
    "target_data = []\n",
    "# iterate over each unique group in the DataFrame\n",
    "df = df_art\n",
    "for i in range(65):\n",
    "    if i % 2 == 0:\n",
    "        sampled_rows = df.loc[df['group'] == i].sample(n=num_samples_per_even_group, replace=False)\n",
    "    if i % 2 == 1:\n",
    "        sampled_rows = df.loc[df['group'] == i].sample(n=num_samples_per_odd_group, replace=False)\n",
    "    # append the sampled rows to the list\n",
    "    target_data.append(sampled_rows)\n",
    "# concatenate the sampled data into a new DataFrame\n",
    "target_df = pd.concat(target_data)\n",
    "print(target_df .shape)\n",
    "np.savetxt('/datacommons/carlsonlab/yl407/office_home_imbalance/image_list/Product_t.txt',target_df.values,fmt='%s', delimiter=' ')"
   ]
  },
  {
   "cell_type": "code",
   "execution_count": null,
   "id": "51349c02-9719-4a47-860f-1c9647371770",
   "metadata": {},
   "outputs": [],
   "source": [
    "##create label shifting\n",
    "import pandas as pd\n",
    "import random\n",
    "# Set the seed for reproducibility\n",
    "random.seed(42)\n",
    "np.random.seed(42)\n",
    "num_samples_per_even_group = 7\n",
    "num_samples_per_odd_group = 14\n",
    "\n",
    "df = pd.read_csv('/datacommons/carlsonlab/yl407/office_home_imbalance/image_list/Art.txt',sep=\" \",header = None)\n",
    "df_art= df.rename({0: \"location\", 1: \"group\"},axis=1)\n",
    "# create an empty list to hold the sampled data\n",
    "source_data = []\n",
    "# iterate over each unique group in the DataFrame\n",
    "df = df_art\n",
    "for i in range(65):\n",
    "    if i % 2 == 0:\n",
    "        sampled_rows = df.loc[df['group'] == i].sample(n=num_samples_per_even_group, replace=False)\n",
    "    if i % 2 == 1:\n",
    "        sampled_rows = df.loc[df['group'] == i].sample(n=num_samples_per_odd_group, replace=False)\n",
    "    # append the sampled rows to the list\n",
    "    source_data.append(sampled_rows)\n",
    "# concatenate the sampled data into a new DataFrame\n",
    "source_df = pd.concat(source_data)\n",
    "# print the resulting DataFrame\n",
    "np.savetxt('/datacommons/carlsonlab/yl407/office_home_imbalance/image_list/Art_s.txt',source_df.values,fmt='%s', delimiter=' ')\n",
    "#np.savetxt('/datacommons/carlsonlab/yl407/VOCdevkit/VOC2012/ImageSets/Segmentation/test.txt',df_test.values,fmt='%s', delimiter='\\t')"
   ]
  },
  {
   "cell_type": "code",
   "execution_count": null,
   "id": "408fdd9d-298c-48db-be65-91a6e0d9966f",
   "metadata": {},
   "outputs": [],
   "source": [
    "# Set the seed for reproducibility\n",
    "random.seed(42)\n",
    "np.random.seed(42)\n",
    "num_samples_per_even_group = 14\n",
    "num_samples_per_odd_group = 7\n",
    "\n",
    "df = pd.read_csv('/datacommons/carlsonlab/yl407/office_home_imbalance/image_list/Art.txt',sep=\" \",header = None)\n",
    "df_art= df.rename({0: \"location\", 1: \"group\"},axis=1)\n",
    "# create an empty list to hold the sampled data\n",
    "target_data = []\n",
    "# iterate over each unique group in the DataFrame\n",
    "df = df_art\n",
    "for i in range(65):\n",
    "    if i % 2 == 0:\n",
    "        sampled_rows = df.loc[df['group'] == i].sample(n=num_samples_per_even_group, replace=False)\n",
    "    if i % 2 == 1:\n",
    "        sampled_rows = df.loc[df['group'] == i].sample(n=num_samples_per_odd_group, replace=False)\n",
    "    # append the sampled rows to the list\n",
    "    target_data.append(sampled_rows)\n",
    "# concatenate the sampled data into a new DataFrame\n",
    "target_df = pd.concat(target_data)\n",
    "print(target_df.shape)\n",
    "np.savetxt('/datacommons/carlsonlab/yl407/office_home_imbalance/image_list/Art_t.txt',target_df.values,fmt='%s', delimiter=' ')"
   ]
  },
  {
   "cell_type": "code",
   "execution_count": null,
   "id": "3c6cf243-cbb9-404d-b56e-82212c7511c3",
   "metadata": {},
   "outputs": [],
   "source": [
    "##create label shifting\n",
    "import pandas as pd\n",
    "import random\n",
    "# Set the seed for reproducibility\n",
    "random.seed(42)\n",
    "np.random.seed(42)\n",
    "num_samples_per_even_group = 18\n",
    "num_samples_per_odd_group = 36\n",
    "\n",
    "df = pd.read_csv('/datacommons/carlsonlab/yl407/office_home_imbalance/image_list/Clipart.txt',sep=\" \",header = None)\n",
    "df_art= df.rename({0: \"location\", 1: \"group\"},axis=1)\n",
    "# create an empty list to hold the sampled data\n",
    "source_data = []\n",
    "# iterate over each unique group in the DataFrame\n",
    "df = df_art\n",
    "for i in range(65):\n",
    "    if i % 2 == 0:\n",
    "        sampled_rows = df.loc[df['group'] == i].sample(n=num_samples_per_even_group, replace=False)\n",
    "    if i % 2 == 1:\n",
    "        sampled_rows = df.loc[df['group'] == i].sample(n=num_samples_per_odd_group, replace=False)\n",
    "    # append the sampled rows to the list\n",
    "    source_data.append(sampled_rows)\n",
    "# concatenate the sampled data into a new DataFrame\n",
    "source_df = pd.concat(source_data)\n",
    "# print the resulting DataFrame\n",
    "np.savetxt('/datacommons/carlsonlab/yl407/office_home_imbalance/image_list/Clipart_s.txt',source_df.values,fmt='%s', delimiter=' ')\n",
    "#np.savetxt('/datacommons/carlsonlab/yl407/VOCdevkit/VOC2012/ImageSets/Segmentation/test.txt',df_test.values,fmt='%s', delimiter='\\t')"
   ]
  },
  {
   "cell_type": "code",
   "execution_count": null,
   "id": "e2a12375-7242-4c9f-bafe-4c46e165f810",
   "metadata": {},
   "outputs": [],
   "source": [
    "# Set the seed for reproducibility\n",
    "random.seed(42)\n",
    "np.random.seed(42)\n",
    "num_samples_per_even_group = 36\n",
    "num_samples_per_odd_group = 18\n",
    "\n",
    "df = pd.read_csv('/datacommons/carlsonlab/yl407/office_home_imbalance/image_list/Clipart.txt',sep=\" \",header = None)\n",
    "df_art= df.rename({0: \"location\", 1: \"group\"},axis=1)\n",
    "# create an empty list to hold the sampled data\n",
    "target_data = []\n",
    "# iterate over each unique group in the DataFrame\n",
    "df = df_art\n",
    "for i in range(65):\n",
    "    if i % 2 == 0:\n",
    "        sampled_rows = df.loc[df['group'] == i].sample(n=num_samples_per_even_group, replace=False)\n",
    "    if i % 2 == 1:\n",
    "        sampled_rows = df.loc[df['group'] == i].sample(n=num_samples_per_odd_group, replace=False)\n",
    "    # append the sampled rows to the list\n",
    "    target_data.append(sampled_rows)\n",
    "# concatenate the sampled data into a new DataFrame\n",
    "target_df = pd.concat(target_data)\n",
    "print(target_df.shape)\n",
    "np.savetxt('/datacommons/carlsonlab/yl407/office_home_imbalance/image_list/Clipart_t.txt',target_df.values,fmt='%s', delimiter=' ')"
   ]
  },
  {
   "cell_type": "code",
   "execution_count": 3,
   "id": "f44628b0-5c4c-4a9d-8bb6-5e2fa2a33077",
   "metadata": {},
   "outputs": [],
   "source": [
    "import pandas as pd\n",
    "import random\n",
    "import numpy as np\n",
    "# Set the seed for reproducibility\n",
    "random.seed(42)\n",
    "np.random.seed(42)\n",
    "df = pd.read_csv('/datacommons/carlsonlab/yl407/office_home_imbalance/image_list/Art_t.txt',\\\n",
    "                 sep=\" \",header = None)\n",
    "df[0] = 'data/OfficeHome/' + df[0]\n",
    "np.savetxt('/work/yl407/BIWAA/data/OfficeHome/Art_t.txt',df.values,fmt='%s', delimiter=' ')"
   ]
  },
  {
   "cell_type": "code",
   "execution_count": null,
   "id": "d08ba328-d928-4466-a4a2-9a6b054e1e12",
   "metadata": {},
   "outputs": [],
   "source": [
    "import pandas as pd\n",
    "import random\n",
    "import numpy as np\n",
    "# Set the seed for reproducibility\n",
    "random.seed(42)\n",
    "np.random.seed(42)\n",
    "df = pd.read_csv('/datacommons/carlsonlab/yl407/office_home_imbalance/image_list/Art_t.txt',\\\n",
    "                 sep=\" \",header = None)\n",
    "df[0] = 'data/office-home/images/' + df[0]\n",
    "np.savetxt('/work/yl407/TVT/TVT/data/office-home/Art_t.txt',df.values,fmt='%s', delimiter=' ')"
   ]
  },
  {
   "cell_type": "code",
   "execution_count": 5,
   "id": "52941381-7022-4176-b1d9-3c88c729ac1c",
   "metadata": {},
   "outputs": [],
   "source": [
    "import pandas as pd\n",
    "import random\n",
    "import numpy as np\n",
    "# Set the seed for reproducibility\n",
    "random.seed(42)\n",
    "np.random.seed(42)\n",
    "df = pd.read_csv('/datacommons/carlsonlab/yl407/office_home_imbalance/image_list/Clipart_s.txt',\\\n",
    "                 sep=\" \",header = None)\n",
    "df[0] = 'data/OfficeHome/' + df[0]\n",
    "np.savetxt('/work/yl407/BIWAA/data/OfficeHome/Clipart_s.txt',df.values,fmt='%s', delimiter=' ')"
   ]
  },
  {
   "cell_type": "code",
   "execution_count": 4,
   "id": "81ce1c1b-ad65-4cda-8532-0c432e2a1aaf",
   "metadata": {},
   "outputs": [],
   "source": [
    "import pandas as pd\n",
    "import random\n",
    "import numpy as np\n",
    "# Set the seed for reproducibility\n",
    "random.seed(42)\n",
    "np.random.seed(42)\n",
    "df = pd.read_csv('/datacommons/carlsonlab/yl407/office_home_imbalance/image_list/Clipart_t.txt',\\\n",
    "                 sep=\" \",header = None)\n",
    "df[0] = 'data/office-home/images/' + df[0]\n",
    "np.savetxt('/work/yl407/TVT/TVT/data/office-home/Clipart_t.txt',df.values,fmt='%s', delimiter=' ')"
   ]
  },
  {
   "cell_type": "code",
   "execution_count": 7,
   "id": "d1f69e66-c308-49d0-b3f7-7d9af4986244",
   "metadata": {},
   "outputs": [],
   "source": [
    "import pandas as pd\n",
    "import random\n",
    "import numpy as np\n",
    "# Set the seed for reproducibility\n",
    "random.seed(42)\n",
    "np.random.seed(42)\n",
    "df = pd.read_csv('/datacommons/carlsonlab/yl407/office_home_imbalance/image_list/Product_s.txt',\\\n",
    "                 sep=\" \",header = None)\n",
    "df[0] = 'data/OfficeHome/' + df[0]\n",
    "np.savetxt('/work/yl407/BIWAA/data/OfficeHome/Product_s.txt',df.values,fmt='%s', delimiter=' ')"
   ]
  },
  {
   "cell_type": "code",
   "execution_count": 6,
   "id": "80663d22-4d3a-4da6-be23-388be396f8fb",
   "metadata": {},
   "outputs": [],
   "source": [
    "import pandas as pd\n",
    "import random\n",
    "import numpy as np\n",
    "# Set the seed for reproducibility\n",
    "random.seed(42)\n",
    "np.random.seed(42)\n",
    "df = pd.read_csv('/datacommons/carlsonlab/yl407/office_home_imbalance/image_list/Product_t.txt',\\\n",
    "                 sep=\" \",header = None)\n",
    "df[0] = 'data/office-home/images/' + df[0]\n",
    "np.savetxt('/work/yl407/TVT/TVT/data/office-home/Product_t.txt',df.values,fmt='%s', delimiter=' ')"
   ]
  },
  {
   "cell_type": "code",
   "execution_count": 9,
   "id": "51af9c60-2c75-4127-ac65-fed7b957eb39",
   "metadata": {},
   "outputs": [],
   "source": [
    "import pandas as pd\n",
    "import random\n",
    "import numpy as np\n",
    "# Set the seed for reproducibility\n",
    "random.seed(42)\n",
    "np.random.seed(42)\n",
    "df = pd.read_csv('/datacommons/carlsonlab/yl407/office_home_imbalance/image_list/Real_World_s.txt',\\\n",
    "                 sep=\" \",header = None)\n",
    "df[0] = 'data/OfficeHome/' + df[0]\n",
    "np.savetxt('/work/yl407/BIWAA/data/OfficeHome/Real_World_s.txt',df.values,fmt='%s', delimiter=' ')"
   ]
  },
  {
   "cell_type": "code",
   "execution_count": 8,
   "id": "31546a64-9191-4ff7-b663-b4d4a2ddc5bf",
   "metadata": {},
   "outputs": [],
   "source": [
    "import pandas as pd\n",
    "import random\n",
    "import numpy as np\n",
    "# Set the seed for reproducibility\n",
    "random.seed(42)\n",
    "np.random.seed(42)\n",
    "df = pd.read_csv('/datacommons/carlsonlab/yl407/office_home_imbalance/image_list/Real_World_t.txt',\\\n",
    "                 sep=\" \",header = None)\n",
    "df[0] = 'data/office-home/images/' + df[0]\n",
    "np.savetxt('/work/yl407/TVT/TVT/data/office-home/Real_World_t.txt',df.values,fmt='%s', delimiter=' ')"
   ]
  },
  {
   "cell_type": "code",
   "execution_count": null,
   "id": "72efa619-1f54-4965-8339-74695369d35c",
   "metadata": {},
   "outputs": [],
   "source": [
    "train_resizing = 'default'\n",
    "val_resizing = 'default'\n",
    "device = torch.device('cuda' if torch.cuda.is_available() else 'cpu')\n",
    "train_transform = get_train_transform(train_resizing, random_horizontal_flip=False,\n",
    "                                            random_color_jitter=False, resize_size=224,\n",
    "                                            norm_mean=(0.485, 0.456, 0.406), norm_std=(0.229, 0.224, 0.225))\n",
    "val_transform = get_val_transform(val_resizing, resize_size=False,\n",
    "                                        norm_mean=(0.485, 0.456, 0.406), norm_std=(0.229, 0.224, 0.225))\n",
    "train_source_dataset, train_target_dataset, val_dataset, test_dataset, num_classes, class_names = \\\n",
    "get_dataset(dataset_name='OfficeHome', root='/datacommons/carlsonlab/yl407/office_home_imbalance',\\\n",
    "            source={'Ar': 'image_list/Art.txt'}, target={'Cl': 'image_list/Clipart.txt'}, train_source_transform=train_transform, val_transform=val_transform)"
   ]
  },
  {
   "cell_type": "code",
   "execution_count": null,
   "id": "c2f6bbc8-21d3-476b-85d1-b5d5c32d212c",
   "metadata": {},
   "outputs": [],
   "source": [
    "test_dataset"
   ]
  },
  {
   "cell_type": "code",
   "execution_count": null,
   "id": "4757a548-f0a8-489d-afc5-78f951ed9db3",
   "metadata": {},
   "outputs": [],
   "source": [
    "len(test_dataset)"
   ]
  },
  {
   "cell_type": "code",
   "execution_count": null,
   "id": "7cf7e400-7514-4e8f-a69f-3a42bb8d88bf",
   "metadata": {},
   "outputs": [],
   "source": [
    "len(val_dataset)"
   ]
  },
  {
   "cell_type": "code",
   "execution_count": null,
   "id": "4ca6f418-b45c-4139-bf9e-fc80626430b2",
   "metadata": {},
   "outputs": [],
   "source": [
    "len(train_source_dataset)"
   ]
  },
  {
   "cell_type": "code",
   "execution_count": null,
   "id": "bd054eb4-8e4a-4087-8689-21d5d57122ec",
   "metadata": {},
   "outputs": [],
   "source": [
    "batch_size = 2048\n",
    "train_source_loader = DataLoader(train_source_dataset, batch_size=batch_size,\n",
    "                                     shuffle=True, num_workers=0, drop_last=True)\n",
    "train_target_loader = DataLoader(train_target_dataset, batch_size=batch_size,shuffle=True, num_workers=0, drop_last=True)\n",
    "val_loader = DataLoader(val_dataset, batch_size=32, shuffle=False, num_workers=0)\n",
    "test_loader = DataLoader(test_dataset, batch_size=32, shuffle=False, num_workers=0)"
   ]
  },
  {
   "cell_type": "code",
   "execution_count": null,
   "id": "d99c3769-2dfb-43be-b7be-cf1d571eef15",
   "metadata": {},
   "outputs": [],
   "source": [
    "len(val_loader)"
   ]
  },
  {
   "cell_type": "code",
   "execution_count": null,
   "id": "4bdc41f2-a70d-44a8-b0b7-13f70a57dbad",
   "metadata": {},
   "outputs": [],
   "source": [
    "backbone = get_model('resnet18', pretrain=False)\n",
    "pool_layer = nn.Identity()\n",
    "\n",
    "model_feature = Net(backbone, num_classes, bottleneck_dim=256,\n",
    "                                 pool_layer=pool_layer, finetune=False).to(device)\n",
    "model_classifier = Classifier().to(device)"
   ]
  },
  {
   "cell_type": "code",
   "execution_count": null,
   "id": "64c26af7-c87f-4d51-8105-c555879d1b21",
   "metadata": {},
   "outputs": [],
   "source": [
    "epochs = 2\n",
    "for epoch in range(1, epochs+1):\n",
    "    source_batch_iterator = iter(train_source_loader)\n",
    "    target_batch_iterator = iter(train_target_loader)\n",
    "    len_dataloader = min(len(train_source_loader), len(train_target_loader))\n",
    "    for i in range(len_dataloader):\n",
    "        data_source = next(source_batch_iterator)\n",
    "        source_x, source_y = data_source\n",
    "        data_target = next(target_batch_iterator)\n",
    "        target_x, _ = data_target\n",
    "        source_x, target_x = source_x.to(device), target_x.to(device)"
   ]
  },
  {
   "cell_type": "code",
   "execution_count": null,
   "id": "c1eadadb-7eaa-48b4-a96d-fd413b1c09d7",
   "metadata": {},
   "outputs": [],
   "source": [
    "source_x[:5,:,:,:].shape"
   ]
  },
  {
   "cell_type": "code",
   "execution_count": null,
   "id": "4ef4ae93-fcb4-4887-8108-627b0d3f43ae",
   "metadata": {},
   "outputs": [],
   "source": [
    "source_x[:5,:,:,:].shape"
   ]
  },
  {
   "cell_type": "code",
   "execution_count": null,
   "id": "85f59fdc-e221-40da-96ee-612e0b60d215",
   "metadata": {},
   "outputs": [],
   "source": [
    "temp = model_feature.backbone(source_x[:5,:,:,:])"
   ]
  },
  {
   "cell_type": "code",
   "execution_count": null,
   "id": "c5fc0f4d-bef8-4520-9eed-3bb5003aea8f",
   "metadata": {},
   "outputs": [],
   "source": [
    "temp.shape"
   ]
  },
  {
   "cell_type": "code",
   "execution_count": null,
   "id": "80b1149e-48cf-48d8-8fd6-2ff03165e3ef",
   "metadata": {},
   "outputs": [],
   "source": [
    "model_feature.bottleneck"
   ]
  },
  {
   "cell_type": "code",
   "execution_count": null,
   "id": "ebb40787-a7de-44ed-a7ed-7934c3f3ecfd",
   "metadata": {},
   "outputs": [],
   "source": [
    "f = model_feature(source_x[:5,:,:,:])"
   ]
  },
  {
   "cell_type": "code",
   "execution_count": null,
   "id": "0546d6de-8d0a-4ebf-9e35-3a80aa400b85",
   "metadata": {},
   "outputs": [],
   "source": [
    "model_feature"
   ]
  },
  {
   "cell_type": "code",
   "execution_count": null,
   "id": "0f19efa3-ff6c-4cb2-ab6d-193990b573e1",
   "metadata": {},
   "outputs": [],
   "source": [
    "f.shape"
   ]
  },
  {
   "cell_type": "code",
   "execution_count": null,
   "id": "d9aff2ff-ea21-46cc-b626-816aa4959d41",
   "metadata": {},
   "outputs": [],
   "source": [
    "y = model_classifier(f)"
   ]
  },
  {
   "cell_type": "code",
   "execution_count": null,
   "id": "902032ca-a5d3-4480-9b2c-4dc5bee8d10f",
   "metadata": {},
   "outputs": [],
   "source": [
    "y.shape"
   ]
  },
  {
   "cell_type": "code",
   "execution_count": null,
   "id": "4440eedb-1b34-408a-a559-a091366bd8dc",
   "metadata": {},
   "outputs": [],
   "source": [
    "f = classifier.bottleneck(source_x)"
   ]
  },
  {
   "cell_type": "code",
   "execution_count": null,
   "id": "1aa08934-fcbf-4eb2-831a-8b031e88d68d",
   "metadata": {},
   "outputs": [],
   "source": [
    "y.shape"
   ]
  },
  {
   "cell_type": "code",
   "execution_count": null,
   "id": "67a62a00-0f27-4729-a070-ce0865f4b3c0",
   "metadata": {},
   "outputs": [],
   "source": []
  }
 ],
 "metadata": {
  "kernelspec": {
   "display_name": "Python 3",
   "language": "python",
   "name": "python3"
  },
  "language_info": {
   "codemirror_mode": {
    "name": "ipython",
    "version": 3
   },
   "file_extension": ".py",
   "mimetype": "text/x-python",
   "name": "python",
   "nbconvert_exporter": "python",
   "pygments_lexer": "ipython3",
   "version": "3.8.8"
  }
 },
 "nbformat": 4,
 "nbformat_minor": 5
}
