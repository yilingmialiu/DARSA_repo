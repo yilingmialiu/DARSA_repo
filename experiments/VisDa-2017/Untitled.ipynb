{
 "cells": [
  {
   "cell_type": "code",
   "execution_count": 13,
   "id": "5675d781-7a10-400f-8797-924d22b6f83f",
   "metadata": {},
   "outputs": [],
   "source": [
    "import argparse\n",
    "import sys\n",
    "sys.path.append('/datacommons/carlsonlab/yl407/packages')\n",
    "sys.path.insert(0, '../../')\n",
    "import numpy as np\n",
    "import torch\n",
    "from torch.utils.data import DataLoader\n",
    "from torch.utils.data.sampler import SubsetRandomSampler\n",
    "from torchvision.datasets import MNIST\n",
    "from torchvision.transforms import Compose, ToTensor\n",
    "from tqdm import tqdm\n",
    "import torch.nn.functional as F\n",
    "import utils.config as config\n",
    "from utils.helper import *\n",
    "from models.model_mnist_mnistm import *\n",
    "from data.mnist_mnistm_data import *\n",
    "import pandas as pd\n",
    "import random\n",
    "import time\n",
    "import warnings\n",
    "import argparse\n",
    "import shutil\n",
    "import os.path as osp\n",
    "import os\n",
    "from utils.helperOH import *\n",
    "import data.officehome as datasets\n",
    "import models.model_resnet as models\n",
    "import timm\n",
    "from torch.utils.data import DataLoader\n",
    "from models.model_office_home import *\n",
    "\n",
    "#seed_torch(123) # 0 #123\n",
    "device = 'cpu'"
   ]
  },
  {
   "cell_type": "code",
   "execution_count": 22,
   "id": "230e629f-0373-4546-920f-9b1fffa7291c",
   "metadata": {},
   "outputs": [],
   "source": [
    "train_resizing = 'default'\n",
    "val_resizing = 'default'\n",
    "\n",
    "train_transform = get_train_transform(train_resizing, random_horizontal_flip=False,\n",
    "                                      random_color_jitter=False, resize_size=224,\n",
    "                                      norm_mean=(0.485, 0.456, 0.406), norm_std=(0.229, 0.224, 0.225))\n",
    "val_transform = get_val_transform(val_resizing, resize_size=False,\n",
    "                                  norm_mean=(0.485, 0.456, 0.406), norm_std=(0.229, 0.224, 0.225))\n",
    "train_source_dataset, train_target_dataset, val_dataset, test_dataset, num_classes, class_names = \\\n",
    "get_dataset(dataset_name='OfficeHome', root='/datacommons/carlsonlab/yl407/office_home_imbalance',\\\n",
    "            source={'Ar': 'image_list/Art.txt'}, target={'Cl': 'image_list/Clipart.txt'}, \\\n",
    "            train_source_transform=train_transform, val_transform=val_transform)"
   ]
  },
  {
   "cell_type": "code",
   "execution_count": 23,
   "id": "10922dbb-5045-4fd4-8f0b-e0324977ca58",
   "metadata": {},
   "outputs": [
    {
     "data": {
      "text/plain": [
       "2427"
      ]
     },
     "execution_count": 23,
     "metadata": {},
     "output_type": "execute_result"
    }
   ],
   "source": [
    "len(train_source_dataset)"
   ]
  },
  {
   "cell_type": "code",
   "execution_count": null,
   "id": "434f4357-1238-4bf6-9a1e-07c2c4463275",
   "metadata": {},
   "outputs": [],
   "source": [
    "len(train_source_dataset)"
   ]
  },
  {
   "cell_type": "code",
   "execution_count": null,
   "id": "4345c066-40a4-4c53-bef6-71dd4a3be6f4",
   "metadata": {},
   "outputs": [],
   "source": [
    "import torch\n",
    "\n",
    "# create an empty tensor with size (0, 3)\n",
    "empty_tensor = torch.empty(0, 3)\n",
    "\n",
    "# create two tensors to concatenate\n",
    "tensor1 = torch.tensor([[1, 2, 3]])\n",
    "tensor2 = torch.tensor([[4, 5, 6]])\n",
    "\n",
    "# concatenate the tensors along the first dimension (rows)\n",
    "concatenated_tensor = torch.cat((empty_tensor, tensor1, tensor2), dim=0)\n",
    "\n",
    "print(concatenated_tensor)"
   ]
  },
  {
   "cell_type": "code",
   "execution_count": null,
   "id": "d39b89b8-8a0c-4a0d-9462-7418ac5e401f",
   "metadata": {},
   "outputs": [],
   "source": [
    "num_classes = 65\n",
    "class_indices = [[] for _ in range(num_classes)]\n",
    "for i in range(len(train_source_dataset)):\n",
    "    label = train_source_dataset[i][1]\n",
    "    class_indices[label].append(i)"
   ]
  },
  {
   "cell_type": "code",
   "execution_count": null,
   "id": "be4fb898-ee80-4821-8644-d0c207a80fd1",
   "metadata": {},
   "outputs": [],
   "source": [
    "class_indices"
   ]
  },
  {
   "cell_type": "code",
   "execution_count": null,
   "id": "bdda1b15-ae42-4a73-8cc6-ecaa0710a428",
   "metadata": {},
   "outputs": [],
   "source": [
    "# Create a custom batch sampler that groups the data by class\n",
    "batch_size = 32\n",
    "num_batches_per_epoch = len(my_dataset) // batch_size\n",
    "batch_indices = []\n",
    "for i in range(num_batches_per_epoch):\n",
    "    batch_indices.append([])\n",
    "    for j in range(num_classes):\n",
    "        indices = class_indices[j]\n",
    "        num_samples = len(indices)\n",
    "        idx = i * num_classes + j\n",
    "        batch_indices[-1].append(indices[idx % num_samples])"
   ]
  },
  {
   "cell_type": "code",
   "execution_count": null,
   "id": "39c4a2fa-4321-49c7-ba4d-04ec64904a3f",
   "metadata": {},
   "outputs": [],
   "source": []
  }
 ],
 "metadata": {
  "kernelspec": {
   "display_name": "Python 3",
   "language": "python",
   "name": "python3"
  },
  "language_info": {
   "codemirror_mode": {
    "name": "ipython",
    "version": 3
   },
   "file_extension": ".py",
   "mimetype": "text/x-python",
   "name": "python",
   "nbconvert_exporter": "python",
   "pygments_lexer": "ipython3",
   "version": "3.8.8"
  }
 },
 "nbformat": 4,
 "nbformat_minor": 5
}
