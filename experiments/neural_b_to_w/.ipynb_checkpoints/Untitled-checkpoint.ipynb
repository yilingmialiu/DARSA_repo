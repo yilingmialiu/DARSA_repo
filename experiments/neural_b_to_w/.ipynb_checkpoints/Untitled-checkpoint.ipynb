{
 "cells": [
  {
   "cell_type": "code",
   "execution_count": 1,
   "id": "acd72390-a421-4ccc-b7f8-b0fa260ac649",
   "metadata": {},
   "outputs": [],
   "source": [
    "import pickle as pkl\n",
    "import os\n",
    "import numpy as np"
   ]
  },
  {
   "cell_type": "code",
   "execution_count": 2,
   "id": "7c93c26c-73aa-4751-89f6-57bdded29d6e",
   "metadata": {},
   "outputs": [],
   "source": [
    "dataDir = \"/datacommons/carlsonlab/yl407/TST_data/\"\n",
    "trainDict = pkl.load(open(os.path.join(dataDir,'tst_train_dict.pkl'),'rb'))\n",
    "testDict = pkl.load(open(os.path.join(dataDir,'tst_test_dict.pkl'),'rb'))\n",
    "X = np.concatenate([trainDict['X_psd'],testDict['X_psd']])\n",
    "y_geno = np.concatenate([trainDict['y_geno'],testDict['y_geno']])\n",
    "y_task = np.concatenate([trainDict['y_task'],testDict['y_task']])\n",
    "X_source = X[np.where(y_geno==True)]\n",
    "X_target = X[np.where(y_geno==False)]\n",
    "_, y_source = np.unique(y_task[np.where(y_geno==True)], return_inverse=True)\n",
    "_, y_target = np.unique(y_task[np.where(y_geno==False)], return_inverse=True)"
   ]
  },
  {
   "cell_type": "code",
   "execution_count": 3,
   "id": "afda710c-ed84-43d3-ba15-3f60ecb3f21a",
   "metadata": {},
   "outputs": [],
   "source": [
    "ha, y_source = np.unique(y_task[np.where(y_geno==True)], return_inverse=True)"
   ]
  },
  {
   "cell_type": "code",
   "execution_count": 4,
   "id": "8adf7a8f-f4cc-49f4-b109-053719dfdee2",
   "metadata": {},
   "outputs": [
    {
     "data": {
      "text/plain": [
       "array(['HC', 'OF', 'TS'], dtype='<U2')"
      ]
     },
     "execution_count": 4,
     "metadata": {},
     "output_type": "execute_result"
    }
   ],
   "source": [
    "ha"
   ]
  },
  {
   "cell_type": "code",
   "execution_count": 5,
   "id": "f7463fa7-d9e0-4038-98ca-b3ae4faf0cdd",
   "metadata": {},
   "outputs": [],
   "source": [
    "ha, y_target = np.unique(y_task[np.where(y_geno==False)], return_inverse=True)"
   ]
  },
  {
   "cell_type": "code",
   "execution_count": 6,
   "id": "1c9110e3-3d5e-4eab-bede-ee2145a68fdf",
   "metadata": {},
   "outputs": [
    {
     "data": {
      "text/plain": [
       "array(['HC', 'OF', 'TS'], dtype='<U2')"
      ]
     },
     "execution_count": 6,
     "metadata": {},
     "output_type": "execute_result"
    }
   ],
   "source": [
    "ha"
   ]
  },
  {
   "cell_type": "code",
   "execution_count": 55,
   "id": "5b51435d-165f-40cd-9409-63653c9828e7",
   "metadata": {},
   "outputs": [],
   "source": [
    "#create label shifting\n",
    "indices_source_0 = np.random.choice(np.where((y_source == 0))[0],3000,replace=False)\n",
    "indices_source_1 = np.random.choice(np.where((y_source == 1))[0],6000,replace=False)\n",
    "indices_source_2 = np.random.choice(np.where((y_source == 2))[0],8000,replace=False)\n",
    "indices_source = np.concatenate((indices_source_0,indices_source_1,indices_source_2))\n",
    "np.random.shuffle(indices_source)\n",
    "X_source = X_source[indices_source]\n",
    "y_source = y_source[indices_source]\n",
    "\n",
    "indices_target_0 = np.random.choice(np.where((y_target == 0))[0],6000,replace=False)\n",
    "indices_target_1 = np.random.choice(np.where((y_target == 1))[0],3000,replace=False)\n",
    "indices_target_2 = np.random.choice(np.where((y_target == 2))[0],16000,replace=False)\n",
    "indices_target = np.concatenate((indices_target_0,indices_target_1,indices_target_2))\n",
    "np.random.shuffle(indices_target)\n",
    "X_target = X_target[indices_target]\n",
    "y_target = y_target[indices_target]"
   ]
  },
  {
   "cell_type": "code",
   "execution_count": 56,
   "id": "9351b739-4ee6-46f9-8bec-815032dbfe5f",
   "metadata": {},
   "outputs": [
    {
     "data": {
      "text/plain": [
       "(17000, 616)"
      ]
     },
     "execution_count": 56,
     "metadata": {},
     "output_type": "execute_result"
    }
   ],
   "source": [
    "X_source.shape"
   ]
  },
  {
   "cell_type": "code",
   "execution_count": 57,
   "id": "f832fe57-0e34-4a33-8b30-20924615ad03",
   "metadata": {},
   "outputs": [
    {
     "data": {
      "text/plain": [
       "(17000,)"
      ]
     },
     "execution_count": 57,
     "metadata": {},
     "output_type": "execute_result"
    }
   ],
   "source": [
    "y_source.shape"
   ]
  },
  {
   "cell_type": "code",
   "execution_count": 58,
   "id": "77bdb646-d6ae-477e-936e-3cde1f06aadb",
   "metadata": {},
   "outputs": [
    {
     "data": {
      "text/plain": [
       "(25000, 616)"
      ]
     },
     "execution_count": 58,
     "metadata": {},
     "output_type": "execute_result"
    }
   ],
   "source": [
    "X_target.shape"
   ]
  },
  {
   "cell_type": "code",
   "execution_count": 59,
   "id": "54cf9c45-ff83-4347-8bae-1248393fb937",
   "metadata": {},
   "outputs": [
    {
     "data": {
      "text/plain": [
       "(25000,)"
      ]
     },
     "execution_count": 59,
     "metadata": {},
     "output_type": "execute_result"
    }
   ],
   "source": [
    "y_target.shape"
   ]
  },
  {
   "cell_type": "code",
   "execution_count": 3,
   "id": "c1e7ebd8-171e-4e04-bb27-6e1d034ba25f",
   "metadata": {},
   "outputs": [
    {
     "data": {
      "text/plain": [
       "array([0, 0, 0, ..., 2, 2, 2])"
      ]
     },
     "execution_count": 3,
     "metadata": {},
     "output_type": "execute_result"
    }
   ],
   "source": [
    "#randomly pick observations\n",
    "#3000, 6000, 8000,\n",
    "#6000, 3000, 16000\n",
    "y_source\n"
   ]
  },
  {
   "cell_type": "code",
   "execution_count": null,
   "id": "b319d12f-79ee-4d22-9a45-d475ad967f12",
   "metadata": {},
   "outputs": [],
   "source": [
    "y_task"
   ]
  },
  {
   "cell_type": "code",
   "execution_count": null,
   "id": "a7dcd70c-adbd-4f95-9421-39aff70cfc78",
   "metadata": {},
   "outputs": [],
   "source": [
    "_, y_source = np.unique(y_task[np.where(y_geno==True)], return_inverse=True)"
   ]
  },
  {
   "cell_type": "code",
   "execution_count": null,
   "id": "317b8849-f867-4533-9145-6d9ba872dcd2",
   "metadata": {},
   "outputs": [],
   "source": [
    "for i in range(3):\n",
    "    print(\"class \"+str(i), np.sum(y_source==i))"
   ]
  },
  {
   "cell_type": "code",
   "execution_count": null,
   "id": "2f3f63ea-d796-4fe2-bb7e-62d015a8e36c",
   "metadata": {},
   "outputs": [],
   "source": [
    "6522/(6522+6502+13555)"
   ]
  },
  {
   "cell_type": "code",
   "execution_count": null,
   "id": "febfaea5-4f43-46ae-beb0-cd17f2a6de84",
   "metadata": {},
   "outputs": [],
   "source": [
    "_, y_target = np.unique(y_task[np.where(y_geno==False)], return_inverse=True)"
   ]
  },
  {
   "cell_type": "code",
   "execution_count": null,
   "id": "fa171bc9-75cb-486d-b719-ee5ca7bb54b0",
   "metadata": {},
   "outputs": [],
   "source": [
    "for i in range(3):\n",
    "    print(\"class \"+str(i), np.sum(y_target==i))"
   ]
  },
  {
   "cell_type": "code",
   "execution_count": null,
   "id": "97c46958-05ab-466f-96ae-b1c68174abde",
   "metadata": {},
   "outputs": [],
   "source": [
    "7731/(7731+7533+16292)"
   ]
  },
  {
   "cell_type": "code",
   "execution_count": null,
   "id": "bf5b6086-44ac-4c3f-a473-7a21af4d0277",
   "metadata": {},
   "outputs": [],
   "source": []
  }
 ],
 "metadata": {
  "kernelspec": {
   "display_name": "Python 3",
   "language": "python",
   "name": "python3"
  },
  "language_info": {
   "codemirror_mode": {
    "name": "ipython",
    "version": 3
   },
   "file_extension": ".py",
   "mimetype": "text/x-python",
   "name": "python",
   "nbconvert_exporter": "python",
   "pygments_lexer": "ipython3",
   "version": "3.8.8"
  }
 },
 "nbformat": 4,
 "nbformat_minor": 5
}
