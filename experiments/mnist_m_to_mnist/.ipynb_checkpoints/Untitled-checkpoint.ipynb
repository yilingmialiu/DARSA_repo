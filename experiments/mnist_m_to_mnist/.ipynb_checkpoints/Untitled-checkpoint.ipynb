{
 "cells": [
  {
   "cell_type": "code",
   "execution_count": 1,
   "id": "e6870843-f1c8-4cb3-b831-77d78c926926",
   "metadata": {},
   "outputs": [],
   "source": [
    "\"\"\"\n",
    "Implements WDGRL with clustering\n",
    "Wasserstein Distance Guided Representation Learning, Shen et al. (2017)\n",
    "\"\"\"\n",
    "\n",
    "###library loading###\n",
    "import argparse\n",
    "import random\n",
    "import torch\n",
    "import numpy as np\n",
    "from torch import nn\n",
    "import math\n",
    "import pandas as pd\n",
    "import os\n",
    "import sys\n",
    "sys.path.insert(0, '../../')\n",
    "import itertools\n",
    "from torch.autograd import grad\n",
    "from torch.utils.data import DataLoader,Subset\n",
    "from torchvision.datasets import MNIST\n",
    "from torchvision.transforms import Compose, ToTensor\n",
    "import torch.nn.functional as F\n",
    "from tqdm import tqdm, trange\n",
    "from sklearn.neighbors import KernelDensity\n",
    "from sklearn.cluster import KMeans\n",
    "from sklearn.mixture import GaussianMixture\n",
    "from torchvision import datasets, transforms\n",
    "from data.mnist_mnistm_data import *\n",
    "from torch.nn.utils import spectral_norm\n",
    "from models.model_mnist_mnistm import *\n",
    "import utils.config as config\n",
    "from utils.helper import *\n",
    "from geomloss import SamplesLoss\n",
    "device = torch.device('cuda' if torch.cuda.is_available() else 'cpu')"
   ]
  },
  {
   "cell_type": "code",
   "execution_count": 3,
   "id": "3f3ab1c2-859c-4ecd-ab5f-b889ca8ccd79",
   "metadata": {},
   "outputs": [
    {
     "name": "stdout",
     "output_type": "stream",
     "text": [
      "5800\n"
     ]
    }
   ],
   "source": [
    "half_batch = 1024\n",
    "\n",
    "source_dataset = load_mnistm_LS(target_num=1800,MNISTM=MNISTM,train_flag=True)\n",
    "source_loader = DataLoader(source_dataset, batch_size=half_batch, drop_last=True,\\\n",
    "                           shuffle=True, num_workers=0, pin_memory=True)\n",
    "\n",
    "##########target data########################\n",
    "target_dataset_label = load_mnist_LS(source_num=290,train_flag=False)\n",
    "\n",
    "print(len(target_dataset_label))\n",
    "\n",
    "target_loader = DataLoader(target_dataset_label, batch_size=half_batch,drop_last=True,\\\n",
    "                           shuffle=True, num_workers=1, pin_memory=True)"
   ]
  },
  {
   "cell_type": "code",
   "execution_count": 4,
   "id": "ba2bc1f8-2b2d-473e-b07a-8fe5d7588ff7",
   "metadata": {},
   "outputs": [],
   "source": [
    "source_batch_iterator = iter(source_loader)\n",
    "target_batch_iterator = iter(target_loader)\n",
    "len_dataloader = min(len(source_loader), len(target_loader))\n",
    "\n",
    "total_unweight_clf_loss = 0\n",
    "total_clf_loss = 0\n",
    "total_centroid_loss = 0\n",
    "total_sntg_loss = 0\n",
    "total_w1_loss = 0\n",
    "\n",
    "\n",
    "for i in range(len_dataloader):\n",
    "    data_source = source_batch_iterator.next()\n",
    "    source_x, source_y = data_source\n",
    "    data_target = target_batch_iterator.next()\n",
    "    target_x, _ = data_target\n",
    "    source_x, target_x = source_x.to(device), target_x.to(device)"
   ]
  },
  {
   "cell_type": "code",
   "execution_count": 19,
   "id": "08bacc54-9bd9-43bd-9bdb-7026dcf5af86",
   "metadata": {},
   "outputs": [
    {
     "data": {
      "image/png": "[encoded data removed]",
      "text/plain": [
       "<Figure size 432x288 with 1 Axes>"
      ]
     },
     "metadata": {
      "needs_background": "light"
     },
     "output_type": "display_data"
    }
   ],
   "source": [
    "import matplotlib.pyplot as plt\n",
    "npimg = source_x[1].cpu().numpy()\n",
    "plt.imshow(np.transpose(npimg, (1, 2, 0)), interpolation='nearest')\n",
    "plt.axis('off')\n",
    "#plt.savefig('mnistm0.png')"
   ]
  },
  {
   "cell_type": "code",
   "execution_count": 51,
   "id": "c8835d88-deb1-4db6-b350-cc63dc9f98d4",
   "metadata": {},
   "outputs": [
    {
     "data": {
      "image/png": "[encoded data removed]",
      "text/plain": [
       "<Figure size 432x288 with 1 Axes>"
      ]
     },
     "metadata": {
      "needs_background": "light"
     },
     "output_type": "display_data"
    },
    {
     "data": {
      "text/plain": [
       "<Figure size 432x288 with 0 Axes>"
      ]
     },
     "metadata": {},
     "output_type": "display_data"
    }
   ],
   "source": [
    "i = 40\n",
    "npimg = target_x[i].cpu().numpy()\n",
    "plt.imshow(np.transpose(npimg, (1, 2, 0)), interpolation='nearest')\n",
    "plt.axis('off')\n",
    "plt.show()\n",
    "plt.savefig('mnist0.png')"
   ]
  },
  {
   "cell_type": "code",
   "execution_count": null,
   "id": "57cf9bfa-8c75-421f-bed8-3f92e21cba9c",
   "metadata": {},
   "outputs": [],
   "source": []
  }
 ],
 "metadata": {
  "kernelspec": {
   "display_name": "Python 3",
   "language": "python",
   "name": "python3"
  },
  "language_info": {
   "codemirror_mode": {
    "name": "ipython",
    "version": 3
   },
   "file_extension": ".py",
   "mimetype": "text/x-python",
   "name": "python",
   "nbconvert_exporter": "python",
   "pygments_lexer": "ipython3",
   "version": "3.8.8"
  }
 },
 "nbformat": 4,
 "nbformat_minor": 5
}
