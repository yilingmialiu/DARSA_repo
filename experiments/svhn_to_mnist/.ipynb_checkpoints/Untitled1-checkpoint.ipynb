{
 "cells": [
  {
   "cell_type": "code",
   "execution_count": 1,
   "id": "85c74295-96a1-4d1c-a8cd-0ff8d460c4cc",
   "metadata": {},
   "outputs": [],
   "source": [
    "\"\"\"\n",
    "Implements WDGRL with clustering\n",
    "Wasserstein Distance Guided Representation Learning, Shen et al. (2017)\n",
    "\"\"\"\n",
    "\n",
    "###library loading###\n",
    "import argparse\n",
    "import random\n",
    "import torch\n",
    "import numpy as np\n",
    "from torch import nn\n",
    "import math\n",
    "import pandas as pd\n",
    "import os\n",
    "import sys\n",
    "sys.path.insert(0, '../../')\n",
    "import itertools\n",
    "from torch.autograd import grad\n",
    "from torch.utils.data import DataLoader,Subset\n",
    "from torchvision.datasets import MNIST\n",
    "from torchvision.transforms import Compose, ToTensor\n",
    "import torch.nn.functional as F\n",
    "from tqdm import tqdm, trange\n",
    "from sklearn.neighbors import KernelDensity\n",
    "from sklearn.cluster import KMeans\n",
    "from sklearn.mixture import GaussianMixture\n",
    "from torchvision import datasets, transforms\n",
    "from data.mnist_mnistm_data import *\n",
    "from data.svhn import *\n",
    "from torch.nn.utils import spectral_norm\n",
    "from models.model_svhn_mnist import *\n",
    "import utils.config as config\n",
    "from utils.helper import *\n",
    "from geomloss import SamplesLoss\n",
    "device = torch.device('cuda' if torch.cuda.is_available() else 'cpu')"
   ]
  },
  {
   "cell_type": "code",
   "execution_count": 2,
   "id": "d88f6120-e180-4a55-aa4e-babde5c7f192",
   "metadata": {},
   "outputs": [],
   "source": [
    "K = 10\n",
    "batch_size = 512\n",
    "lr = 1e-2\n",
    "lamb_clf = 1\n",
    "lamb_wd = 0.5\n",
    "lamb_centroid = 1\n",
    "lamb_sntg = 1\n",
    "LAMBDA = 50\n",
    "momentum = 0.4\n",
    "epochs = 100"
   ]
  },
  {
   "cell_type": "code",
   "execution_count": 3,
   "id": "24d3bf16-f677-4f07-8e3e-7a7bf34c8826",
   "metadata": {},
   "outputs": [],
   "source": [
    "seed_torch(seed=123)"
   ]
  },
  {
   "cell_type": "code",
   "execution_count": null,
   "id": "9927eadf-a529-4edc-9453-87ea0656a023",
   "metadata": {
    "tags": []
   },
   "outputs": [
    {
     "name": "stdout",
     "output_type": "stream",
     "text": [
      "Using downloaded and verified file: ../../data/svhn/train_32x32.mat\n"
     ]
    },
    {
     "name": "stderr",
     "output_type": "stream",
     "text": [
      "  0%|          | 0/1 [00:00<?, ?it/s]"
     ]
    },
    {
     "name": "stdout",
     "output_type": "stream",
     "text": [
      "EPOCH 001: critic_loss=31.9743 source_clf=0.2313,unweighted_source_clf=0.1991,clustering_centr=2.8359,sntg=13.6849\n"
     ]
    },
    {
     "name": "stderr",
     "output_type": "stream",
     "text": [
      "                                             "
     ]
    },
    {
     "name": "stdout",
     "output_type": "stream",
     "text": [
      "7    1060\n",
      "4     838\n",
      "3     811\n",
      "5     694\n",
      "2     546\n",
      "6     530\n",
      "1     404\n",
      "9     314\n",
      "8     311\n",
      "0     292\n",
      "Name: 0, dtype: int64\n",
      "1    870\n",
      "5    870\n",
      "9    870\n",
      "3    870\n",
      "7    870\n",
      "0    290\n",
      "4    290\n",
      "8    290\n",
      "2    290\n",
      "6    290\n",
      "Name: 0, dtype: int64\n",
      "Accuracy on target data: 0.6564\n",
      "0.6563793420791626\n"
     ]
    },
    {
     "name": "stderr",
     "output_type": "stream",
     "text": [
      "  0%|          | 0/1 [00:00<?, ?it/s]"
     ]
    },
    {
     "name": "stdout",
     "output_type": "stream",
     "text": [
      "EPOCH 002: critic_loss=27.8615 source_clf=0.2589,unweighted_source_clf=0.2000,clustering_centr=1.8760,sntg=10.2727\n"
     ]
    },
    {
     "name": "stderr",
     "output_type": "stream",
     "text": [
      "                                             "
     ]
    },
    {
     "name": "stdout",
     "output_type": "stream",
     "text": [
      "4    1012\n",
      "7     953\n",
      "3     803\n",
      "5     696\n",
      "2     629\n",
      "6     500\n",
      "1     405\n",
      "8     306\n",
      "0     278\n",
      "9     218\n",
      "Name: 0, dtype: int64\n",
      "Accuracy on target data: 0.6445\n",
      "0.6563793420791626\n"
     ]
    },
    {
     "name": "stderr",
     "output_type": "stream",
     "text": [
      "  0%|          | 0/1 [00:00<?, ?it/s]"
     ]
    },
    {
     "name": "stdout",
     "output_type": "stream",
     "text": [
      "EPOCH 003: critic_loss=25.6267 source_clf=0.2254,unweighted_source_clf=0.1924,clustering_centr=1.6706,sntg=9.3895\n"
     ]
    },
    {
     "name": "stderr",
     "output_type": "stream",
     "text": [
      "                                             "
     ]
    },
    {
     "name": "stdout",
     "output_type": "stream",
     "text": [
      "7    1058\n",
      "4     984\n",
      "3     856\n",
      "5     763\n",
      "2     614\n",
      "6     424\n",
      "1     367\n",
      "0     279\n",
      "8     263\n",
      "9     192\n",
      "Name: 0, dtype: int64\n",
      "Accuracy on target data: 0.6693\n",
      "0.6693103909492493\n"
     ]
    },
    {
     "name": "stderr",
     "output_type": "stream",
     "text": [
      "  0%|          | 0/1 [00:00<?, ?it/s]"
     ]
    },
    {
     "name": "stdout",
     "output_type": "stream",
     "text": [
      "EPOCH 004: critic_loss=23.8616 source_clf=0.1986,unweighted_source_clf=0.1850,clustering_centr=1.5555,sntg=8.6091\n"
     ]
    },
    {
     "name": "stderr",
     "output_type": "stream",
     "text": [
      "                                             "
     ]
    },
    {
     "name": "stdout",
     "output_type": "stream",
     "text": [
      "7    1131\n",
      "4    1026\n",
      "3     840\n",
      "5     782\n",
      "2     532\n",
      "6     433\n",
      "1     365\n",
      "0     274\n",
      "8     258\n",
      "9     159\n",
      "Name: 0, dtype: int64\n",
      "Accuracy on target data: 0.6779\n",
      "0.6779310703277588\n"
     ]
    },
    {
     "name": "stderr",
     "output_type": "stream",
     "text": [
      "  0%|          | 0/1 [00:00<?, ?it/s]"
     ]
    },
    {
     "name": "stdout",
     "output_type": "stream",
     "text": [
      "EPOCH 005: critic_loss=23.2196 source_clf=0.1457,unweighted_source_clf=0.1666,clustering_centr=1.5773,sntg=8.1510\n"
     ]
    },
    {
     "name": "stderr",
     "output_type": "stream",
     "text": [
      "                                             "
     ]
    },
    {
     "name": "stdout",
     "output_type": "stream",
     "text": [
      "7    1204\n",
      "4     991\n",
      "3     855\n",
      "5     809\n",
      "2     486\n",
      "6     398\n",
      "1     344\n",
      "0     272\n",
      "8     259\n",
      "9     182\n",
      "Name: 0, dtype: int64\n",
      "Accuracy on target data: 0.6988\n",
      "0.6987931132316589\n"
     ]
    },
    {
     "name": "stderr",
     "output_type": "stream",
     "text": [
      "  0%|          | 0/1 [00:00<?, ?it/s]"
     ]
    },
    {
     "name": "stdout",
     "output_type": "stream",
     "text": [
      "EPOCH 006: critic_loss=22.3732 source_clf=0.2117,unweighted_source_clf=0.2209,clustering_centr=1.3107,sntg=7.7761\n"
     ]
    },
    {
     "name": "stderr",
     "output_type": "stream",
     "text": [
      "                                             "
     ]
    },
    {
     "name": "stdout",
     "output_type": "stream",
     "text": [
      "7    1186\n",
      "4    1043\n",
      "3     871\n",
      "5     835\n",
      "2     495\n",
      "6     354\n",
      "1     349\n",
      "0     275\n",
      "8     252\n",
      "9     140\n",
      "Name: 0, dtype: int64\n",
      "Accuracy on target data: 0.6978\n",
      "0.6987931132316589\n"
     ]
    },
    {
     "name": "stderr",
     "output_type": "stream",
     "text": [
      "  0%|          | 0/1 [00:00<?, ?it/s]"
     ]
    },
    {
     "name": "stdout",
     "output_type": "stream",
     "text": [
      "EPOCH 007: critic_loss=22.0358 source_clf=0.2160,unweighted_source_clf=0.1856,clustering_centr=1.2774,sntg=7.6671\n"
     ]
    },
    {
     "name": "stderr",
     "output_type": "stream",
     "text": [
      "                                             "
     ]
    },
    {
     "name": "stdout",
     "output_type": "stream",
     "text": [
      "7    1205\n",
      "4    1035\n",
      "3     873\n",
      "5     838\n",
      "2     483\n",
      "1     338\n",
      "6     335\n",
      "0     272\n",
      "8     256\n",
      "9     165\n",
      "Name: 0, dtype: int64\n",
      "Accuracy on target data: 0.7038\n",
      "0.7037931084632874\n"
     ]
    },
    {
     "name": "stderr",
     "output_type": "stream",
     "text": [
      "  0%|          | 0/1 [00:00<?, ?it/s]"
     ]
    },
    {
     "name": "stdout",
     "output_type": "stream",
     "text": [
      "EPOCH 008: critic_loss=21.5628 source_clf=0.1881,unweighted_source_clf=0.1912,clustering_centr=1.3372,sntg=7.3511\n"
     ]
    },
    {
     "name": "stderr",
     "output_type": "stream",
     "text": [
      "                                             "
     ]
    },
    {
     "name": "stdout",
     "output_type": "stream",
     "text": [
      "7    1201\n",
      "4    1020\n",
      "3     872\n",
      "5     851\n",
      "2     479\n",
      "1     343\n",
      "6     325\n",
      "0     276\n",
      "8     259\n",
      "9     174\n",
      "Name: 0, dtype: int64\n",
      "Accuracy on target data: 0.7086\n",
      "0.7086207270622253\n"
     ]
    },
    {
     "name": "stderr",
     "output_type": "stream",
     "text": [
      "  0%|          | 0/1 [00:00<?, ?it/s]"
     ]
    },
    {
     "name": "stdout",
     "output_type": "stream",
     "text": [
      "EPOCH 009: critic_loss=20.9614 source_clf=0.1614,unweighted_source_clf=0.1682,clustering_centr=1.4311,sntg=7.0949\n"
     ]
    },
    {
     "name": "stderr",
     "output_type": "stream",
     "text": [
      "                                             "
     ]
    },
    {
     "name": "stdout",
     "output_type": "stream",
     "text": [
      "7    1224\n",
      "4    1020\n",
      "3     858\n",
      "5     852\n",
      "2     456\n",
      "1     365\n",
      "6     339\n",
      "0     271\n",
      "8     262\n",
      "9     153\n",
      "Name: 0, dtype: int64\n",
      "Accuracy on target data: 0.7160\n",
      "0.7160345315933228\n"
     ]
    },
    {
     "name": "stderr",
     "output_type": "stream",
     "text": [
      "  0%|          | 0/1 [00:00<?, ?it/s]"
     ]
    },
    {
     "name": "stdout",
     "output_type": "stream",
     "text": [
      "EPOCH 010: critic_loss=20.2008 source_clf=0.2291,unweighted_source_clf=0.2083,clustering_centr=1.1451,sntg=6.9816\n"
     ]
    },
    {
     "name": "stderr",
     "output_type": "stream",
     "text": [
      "                                             "
     ]
    },
    {
     "name": "stdout",
     "output_type": "stream",
     "text": [
      "7    1202\n",
      "4    1014\n",
      "5     859\n",
      "3     847\n",
      "2     478\n",
      "1     356\n",
      "6     335\n",
      "0     269\n",
      "8     260\n",
      "9     180\n",
      "Name: 0, dtype: int64\n",
      "Accuracy on target data: 0.7140\n",
      "0.7160345315933228\n"
     ]
    },
    {
     "name": "stderr",
     "output_type": "stream",
     "text": [
      "  0%|          | 0/1 [00:00<?, ?it/s]"
     ]
    },
    {
     "name": "stdout",
     "output_type": "stream",
     "text": [
      "EPOCH 011: critic_loss=20.1619 source_clf=0.2035,unweighted_source_clf=0.1873,clustering_centr=1.1414,sntg=6.7178\n"
     ]
    },
    {
     "name": "stderr",
     "output_type": "stream",
     "text": [
      "                                             "
     ]
    },
    {
     "name": "stdout",
     "output_type": "stream",
     "text": [
      "7    1204\n",
      "4    1029\n",
      "5     868\n",
      "3     866\n",
      "2     458\n",
      "1     363\n",
      "6     333\n",
      "0     263\n",
      "8     258\n",
      "9     158\n",
      "Name: 0, dtype: int64\n",
      "Accuracy on target data: 0.7164\n",
      "0.7163793444633484\n"
     ]
    },
    {
     "name": "stderr",
     "output_type": "stream",
     "text": [
      "  0%|          | 0/1 [00:00<?, ?it/s]"
     ]
    },
    {
     "name": "stdout",
     "output_type": "stream",
     "text": [
      "EPOCH 012: critic_loss=20.0846 source_clf=0.1873,unweighted_source_clf=0.1941,clustering_centr=1.1973,sntg=6.5419\n"
     ]
    },
    {
     "name": "stderr",
     "output_type": "stream",
     "text": [
      "                                             "
     ]
    },
    {
     "name": "stdout",
     "output_type": "stream",
     "text": [
      "7    1183\n",
      "4    1036\n",
      "5     864\n",
      "3     852\n",
      "2     473\n",
      "1     366\n",
      "6     326\n",
      "0     277\n",
      "8     270\n",
      "9     153\n",
      "Name: 0, dtype: int64\n",
      "Accuracy on target data: 0.7183\n",
      "0.7182759046554565\n"
     ]
    },
    {
     "name": "stderr",
     "output_type": "stream",
     "text": [
      "  0%|          | 0/1 [00:00<?, ?it/s]"
     ]
    },
    {
     "name": "stdout",
     "output_type": "stream",
     "text": [
      "EPOCH 013: critic_loss=19.8522 source_clf=0.1640,unweighted_source_clf=0.1831,clustering_centr=1.1905,sntg=6.4398\n"
     ]
    },
    {
     "name": "stderr",
     "output_type": "stream",
     "text": [
      "                                             "
     ]
    },
    {
     "name": "stdout",
     "output_type": "stream",
     "text": [
      "7    1222\n",
      "4    1030\n",
      "5     877\n",
      "3     864\n",
      "2     448\n",
      "1     347\n",
      "6     323\n",
      "0     272\n",
      "8     267\n",
      "9     150\n",
      "Name: 0, dtype: int64\n",
      "Accuracy on target data: 0.7226\n",
      "0.7225862145423889\n"
     ]
    },
    {
     "name": "stderr",
     "output_type": "stream",
     "text": [
      "  0%|          | 0/1 [00:00<?, ?it/s]"
     ]
    },
    {
     "name": "stdout",
     "output_type": "stream",
     "text": [
      "EPOCH 014: critic_loss=19.3378 source_clf=0.1290,unweighted_source_clf=0.1537,clustering_centr=1.2024,sntg=6.2853\n"
     ]
    },
    {
     "name": "stderr",
     "output_type": "stream",
     "text": [
      "                                             "
     ]
    },
    {
     "name": "stdout",
     "output_type": "stream",
     "text": [
      "7    1258\n",
      "4    1029\n",
      "5     878\n",
      "3     866\n",
      "2     439\n",
      "1     335\n",
      "6     331\n",
      "0     270\n",
      "8     255\n",
      "9     139\n",
      "Name: 0, dtype: int64\n",
      "Accuracy on target data: 0.7197\n",
      "0.7225862145423889\n"
     ]
    },
    {
     "name": "stderr",
     "output_type": "stream",
     "text": [
      "  0%|          | 0/1 [00:00<?, ?it/s]"
     ]
    },
    {
     "name": "stdout",
     "output_type": "stream",
     "text": [
      "EPOCH 015: critic_loss=18.9139 source_clf=0.1547,unweighted_source_clf=0.1846,clustering_centr=1.0818,sntg=6.2365\n"
     ]
    },
    {
     "name": "stderr",
     "output_type": "stream",
     "text": [
      "                                             "
     ]
    },
    {
     "name": "stdout",
     "output_type": "stream",
     "text": [
      "7    1259\n",
      "4    1052\n",
      "5     870\n",
      "3     850\n",
      "2     433\n",
      "1     348\n",
      "6     327\n",
      "0     274\n",
      "8     265\n",
      "9     122\n",
      "Name: 0, dtype: int64\n",
      "Accuracy on target data: 0.7224\n",
      "0.7225862145423889\n"
     ]
    },
    {
     "name": "stderr",
     "output_type": "stream",
     "text": [
      "  0%|          | 0/1 [00:00<?, ?it/s]"
     ]
    },
    {
     "name": "stdout",
     "output_type": "stream",
     "text": [
      "EPOCH 016: critic_loss=18.5428 source_clf=0.1572,unweighted_source_clf=0.1838,clustering_centr=1.0379,sntg=5.9577\n"
     ]
    },
    {
     "name": "stderr",
     "output_type": "stream",
     "text": [
      "                                             "
     ]
    },
    {
     "name": "stdout",
     "output_type": "stream",
     "text": [
      "7    1254\n",
      "4    1019\n",
      "5     875\n",
      "3     868\n",
      "2     444\n",
      "1     335\n",
      "6     319\n",
      "0     277\n",
      "8     261\n",
      "9     148\n",
      "Name: 0, dtype: int64\n",
      "Accuracy on target data: 0.7229\n",
      "0.7229310274124146\n"
     ]
    },
    {
     "name": "stderr",
     "output_type": "stream",
     "text": [
      "  0%|          | 0/1 [00:00<?, ?it/s]"
     ]
    },
    {
     "name": "stdout",
     "output_type": "stream",
     "text": [
      "EPOCH 017: critic_loss=18.0851 source_clf=0.1488,unweighted_source_clf=0.1590,clustering_centr=1.0717,sntg=5.8245\n"
     ]
    },
    {
     "name": "stderr",
     "output_type": "stream",
     "text": [
      "                                             "
     ]
    },
    {
     "name": "stdout",
     "output_type": "stream",
     "text": [
      "7    1294\n",
      "4    1026\n",
      "5     864\n",
      "3     857\n",
      "2     414\n",
      "1     333\n",
      "6     324\n",
      "0     273\n",
      "8     263\n",
      "9     152\n",
      "Name: 0, dtype: int64\n",
      "Accuracy on target data: 0.7291\n",
      "0.7291379570960999\n"
     ]
    },
    {
     "name": "stderr",
     "output_type": "stream",
     "text": [
      "  0%|          | 0/1 [00:00<?, ?it/s]"
     ]
    },
    {
     "name": "stdout",
     "output_type": "stream",
     "text": [
      "EPOCH 018: critic_loss=18.0390 source_clf=0.1586,unweighted_source_clf=0.1698,clustering_centr=1.0549,sntg=5.8362\n"
     ]
    },
    {
     "name": "stderr",
     "output_type": "stream",
     "text": [
      "                                             "
     ]
    },
    {
     "name": "stdout",
     "output_type": "stream",
     "text": [
      "7    1269\n",
      "4    1038\n",
      "3     860\n",
      "5     856\n",
      "2     418\n",
      "1     351\n",
      "6     325\n",
      "0     276\n",
      "8     265\n",
      "9     142\n",
      "Name: 0, dtype: int64\n",
      "Accuracy on target data: 0.7293\n",
      "0.7293103933334351\n"
     ]
    },
    {
     "name": "stderr",
     "output_type": "stream",
     "text": [
      "  0%|          | 0/1 [00:00<?, ?it/s]"
     ]
    },
    {
     "name": "stdout",
     "output_type": "stream",
     "text": [
      "EPOCH 019: critic_loss=17.8690 source_clf=0.1380,unweighted_source_clf=0.1493,clustering_centr=1.0968,sntg=5.7149\n"
     ]
    },
    {
     "name": "stderr",
     "output_type": "stream",
     "text": [
      "                                             "
     ]
    },
    {
     "name": "stdout",
     "output_type": "stream",
     "text": [
      "7    1271\n",
      "4    1031\n",
      "5     869\n",
      "3     861\n",
      "2     438\n",
      "1     331\n",
      "6     323\n",
      "0     277\n",
      "8     263\n",
      "9     136\n",
      "Name: 0, dtype: int64\n",
      "Accuracy on target data: 0.7245\n",
      "0.7293103933334351\n"
     ]
    },
    {
     "name": "stderr",
     "output_type": "stream",
     "text": [
      "  0%|          | 0/1 [00:00<?, ?it/s]"
     ]
    },
    {
     "name": "stdout",
     "output_type": "stream",
     "text": [
      "EPOCH 020: critic_loss=17.5569 source_clf=0.1291,unweighted_source_clf=0.1650,clustering_centr=1.0246,sntg=5.7193\n"
     ]
    },
    {
     "name": "stderr",
     "output_type": "stream",
     "text": [
      "                                             "
     ]
    },
    {
     "name": "stdout",
     "output_type": "stream",
     "text": [
      "7    1288\n",
      "4    1010\n",
      "5     866\n",
      "3     865\n",
      "2     422\n",
      "1     341\n",
      "6     330\n",
      "0     270\n",
      "8     261\n",
      "9     147\n",
      "Name: 0, dtype: int64\n",
      "Accuracy on target data: 0.7303\n",
      "0.730344831943512\n"
     ]
    },
    {
     "name": "stderr",
     "output_type": "stream",
     "text": [
      "  0%|          | 0/1 [00:00<?, ?it/s]"
     ]
    },
    {
     "name": "stdout",
     "output_type": "stream",
     "text": [
      "EPOCH 021: critic_loss=17.9484 source_clf=0.1831,unweighted_source_clf=0.1824,clustering_centr=1.0313,sntg=5.6290\n"
     ]
    },
    {
     "name": "stderr",
     "output_type": "stream",
     "text": [
      "                                             "
     ]
    },
    {
     "name": "stdout",
     "output_type": "stream",
     "text": [
      "7    1267\n",
      "4    1017\n",
      "5     872\n",
      "3     864\n",
      "2     430\n",
      "1     338\n",
      "6     328\n",
      "0     271\n",
      "8     260\n",
      "9     153\n",
      "Name: 0, dtype: int64\n",
      "Accuracy on target data: 0.7279\n",
      "0.730344831943512\n"
     ]
    },
    {
     "name": "stderr",
     "output_type": "stream",
     "text": [
      "  0%|          | 0/1 [00:00<?, ?it/s]"
     ]
    },
    {
     "name": "stdout",
     "output_type": "stream",
     "text": [
      "EPOCH 022: critic_loss=17.2757 source_clf=0.1435,unweighted_source_clf=0.1681,clustering_centr=1.0775,sntg=5.4672\n"
     ]
    },
    {
     "name": "stderr",
     "output_type": "stream",
     "text": [
      "                                             "
     ]
    },
    {
     "name": "stdout",
     "output_type": "stream",
     "text": [
      "7    1264\n",
      "4    1039\n",
      "5     867\n",
      "3     866\n",
      "2     440\n",
      "1     338\n",
      "6     320\n",
      "0     276\n",
      "8     269\n",
      "9     121\n",
      "Name: 0, dtype: int64\n",
      "Accuracy on target data: 0.7253\n",
      "0.730344831943512\n"
     ]
    },
    {
     "name": "stderr",
     "output_type": "stream",
     "text": [
      "  0%|          | 0/1 [00:00<?, ?it/s]"
     ]
    },
    {
     "name": "stdout",
     "output_type": "stream",
     "text": [
      "EPOCH 023: critic_loss=17.4731 source_clf=0.1550,unweighted_source_clf=0.1620,clustering_centr=1.1466,sntg=5.6097\n"
     ]
    },
    {
     "name": "stderr",
     "output_type": "stream",
     "text": [
      "                                             "
     ]
    },
    {
     "name": "stdout",
     "output_type": "stream",
     "text": [
      "7    1231\n",
      "4    1022\n",
      "5     873\n",
      "3     861\n",
      "2     460\n",
      "1     346\n",
      "6     319\n",
      "0     277\n",
      "8     270\n",
      "9     141\n",
      "Name: 0, dtype: int64\n",
      "Accuracy on target data: 0.7274\n",
      "0.730344831943512\n"
     ]
    },
    {
     "name": "stderr",
     "output_type": "stream",
     "text": [
      "  0%|          | 0/1 [00:00<?, ?it/s]"
     ]
    },
    {
     "name": "stdout",
     "output_type": "stream",
     "text": [
      "EPOCH 024: critic_loss=17.4185 source_clf=0.1429,unweighted_source_clf=0.1466,clustering_centr=1.1451,sntg=5.4342\n"
     ]
    },
    {
     "name": "stderr",
     "output_type": "stream",
     "text": [
      "                                             "
     ]
    },
    {
     "name": "stdout",
     "output_type": "stream",
     "text": [
      "7    1262\n",
      "4    1012\n",
      "5     877\n",
      "3     849\n",
      "2     436\n",
      "1     339\n",
      "6     321\n",
      "8     275\n",
      "0     271\n",
      "9     158\n",
      "Name: 0, dtype: int64\n",
      "Accuracy on target data: 0.7293\n",
      "0.730344831943512\n"
     ]
    },
    {
     "name": "stderr",
     "output_type": "stream",
     "text": [
      "  0%|          | 0/1 [00:00<?, ?it/s]"
     ]
    },
    {
     "name": "stdout",
     "output_type": "stream",
     "text": [
      "EPOCH 025: critic_loss=17.0281 source_clf=0.1786,unweighted_source_clf=0.1622,clustering_centr=1.0256,sntg=5.4134\n"
     ]
    },
    {
     "name": "stderr",
     "output_type": "stream",
     "text": [
      "                                             "
     ]
    },
    {
     "name": "stdout",
     "output_type": "stream",
     "text": [
      "7    1262\n",
      "4    1027\n",
      "5     871\n",
      "3     861\n",
      "2     437\n",
      "1     334\n",
      "6     315\n",
      "8     275\n",
      "0     274\n",
      "9     144\n",
      "Name: 0, dtype: int64\n",
      "Accuracy on target data: 0.7284\n",
      "0.730344831943512\n"
     ]
    },
    {
     "name": "stderr",
     "output_type": "stream",
     "text": [
      "  0%|          | 0/1 [00:00<?, ?it/s]"
     ]
    },
    {
     "name": "stdout",
     "output_type": "stream",
     "text": [
      "EPOCH 026: critic_loss=16.8769 source_clf=0.1420,unweighted_source_clf=0.1790,clustering_centr=1.0589,sntg=5.4616\n"
     ]
    },
    {
     "name": "stderr",
     "output_type": "stream",
     "text": [
      "                                             "
     ]
    },
    {
     "name": "stdout",
     "output_type": "stream",
     "text": [
      "7    1273\n",
      "4    1029\n",
      "5     872\n",
      "3     862\n",
      "2     429\n",
      "1     336\n",
      "6     315\n",
      "0     273\n",
      "8     273\n",
      "9     138\n",
      "Name: 0, dtype: int64\n",
      "Accuracy on target data: 0.7293\n",
      "0.730344831943512\n"
     ]
    },
    {
     "name": "stderr",
     "output_type": "stream",
     "text": [
      "  0%|          | 0/1 [00:00<?, ?it/s]"
     ]
    },
    {
     "name": "stdout",
     "output_type": "stream",
     "text": [
      "EPOCH 027: critic_loss=16.7705 source_clf=0.1533,unweighted_source_clf=0.1558,clustering_centr=0.9721,sntg=5.2015\n"
     ]
    },
    {
     "name": "stderr",
     "output_type": "stream",
     "text": [
      "                                             "
     ]
    },
    {
     "name": "stdout",
     "output_type": "stream",
     "text": [
      "7    1250\n",
      "4    1016\n",
      "5     868\n",
      "3     868\n",
      "2     441\n",
      "1     344\n",
      "6     310\n",
      "0     276\n",
      "8     270\n",
      "9     157\n",
      "Name: 0, dtype: int64\n",
      "Accuracy on target data: 0.7302\n",
      "0.730344831943512\n"
     ]
    },
    {
     "name": "stderr",
     "output_type": "stream",
     "text": [
      "  0%|          | 0/1 [00:00<?, ?it/s]"
     ]
    },
    {
     "name": "stdout",
     "output_type": "stream",
     "text": [
      "EPOCH 028: critic_loss=16.7045 source_clf=0.1376,unweighted_source_clf=0.1599,clustering_centr=0.9573,sntg=5.1492\n"
     ]
    },
    {
     "name": "stderr",
     "output_type": "stream",
     "text": [
      "                                             "
     ]
    },
    {
     "name": "stdout",
     "output_type": "stream",
     "text": [
      "7    1245\n",
      "4    1011\n",
      "5     866\n",
      "3     862\n",
      "2     433\n",
      "1     353\n",
      "6     326\n",
      "8     277\n",
      "0     271\n",
      "9     156\n",
      "Name: 0, dtype: int64\n",
      "Accuracy on target data: 0.7341\n",
      "0.7341379523277283\n"
     ]
    },
    {
     "name": "stderr",
     "output_type": "stream",
     "text": [
      "  0%|          | 0/1 [00:00<?, ?it/s]"
     ]
    },
    {
     "name": "stdout",
     "output_type": "stream",
     "text": [
      "EPOCH 029: critic_loss=16.8224 source_clf=0.1366,unweighted_source_clf=0.1697,clustering_centr=0.9078,sntg=5.2671\n"
     ]
    },
    {
     "name": "stderr",
     "output_type": "stream",
     "text": [
      "                                             "
     ]
    },
    {
     "name": "stdout",
     "output_type": "stream",
     "text": [
      "7    1265\n",
      "4    1017\n",
      "5     869\n",
      "3     860\n",
      "2     432\n",
      "1     343\n",
      "6     329\n",
      "8     271\n",
      "0     264\n",
      "9     150\n",
      "Name: 0, dtype: int64\n",
      "Accuracy on target data: 0.7328\n",
      "0.7341379523277283\n"
     ]
    },
    {
     "name": "stderr",
     "output_type": "stream",
     "text": [
      "  0%|          | 0/1 [00:00<?, ?it/s]"
     ]
    },
    {
     "name": "stdout",
     "output_type": "stream",
     "text": [
      "EPOCH 030: critic_loss=16.3393 source_clf=0.1346,unweighted_source_clf=0.1686,clustering_centr=0.9044,sntg=5.1115\n"
     ]
    },
    {
     "name": "stderr",
     "output_type": "stream",
     "text": [
      "                                             "
     ]
    },
    {
     "name": "stdout",
     "output_type": "stream",
     "text": [
      "7    1227\n",
      "4    1031\n",
      "5     873\n",
      "3     862\n",
      "2     464\n",
      "1     339\n",
      "6     321\n",
      "8     276\n",
      "0     263\n",
      "9     144\n",
      "Name: 0, dtype: int64\n",
      "Accuracy on target data: 0.7243\n",
      "0.7341379523277283\n"
     ]
    },
    {
     "name": "stderr",
     "output_type": "stream",
     "text": [
      "  0%|          | 0/1 [00:00<?, ?it/s]"
     ]
    },
    {
     "name": "stdout",
     "output_type": "stream",
     "text": [
      "EPOCH 031: critic_loss=16.0583 source_clf=0.1385,unweighted_source_clf=0.1747,clustering_centr=0.9969,sntg=4.9227\n"
     ]
    },
    {
     "name": "stderr",
     "output_type": "stream",
     "text": [
      "                                             "
     ]
    },
    {
     "name": "stdout",
     "output_type": "stream",
     "text": [
      "7    1247\n",
      "4    1024\n",
      "5     872\n",
      "3     858\n",
      "2     437\n",
      "1     351\n",
      "6     319\n",
      "8     270\n",
      "0     267\n",
      "9     155\n",
      "Name: 0, dtype: int64\n",
      "Accuracy on target data: 0.7307\n",
      "0.7341379523277283\n"
     ]
    },
    {
     "name": "stderr",
     "output_type": "stream",
     "text": [
      "  0%|          | 0/1 [00:00<?, ?it/s]"
     ]
    },
    {
     "name": "stdout",
     "output_type": "stream",
     "text": [
      "EPOCH 032: critic_loss=16.0974 source_clf=0.1399,unweighted_source_clf=0.1624,clustering_centr=0.8775,sntg=4.9580\n"
     ]
    },
    {
     "name": "stderr",
     "output_type": "stream",
     "text": [
      "                                             "
     ]
    },
    {
     "name": "stdout",
     "output_type": "stream",
     "text": [
      "7    1240\n",
      "4    1018\n",
      "5     878\n",
      "3     853\n",
      "2     439\n",
      "1     348\n",
      "6     321\n",
      "8     272\n",
      "0     271\n",
      "9     160\n",
      "Name: 0, dtype: int64\n",
      "Accuracy on target data: 0.7307\n",
      "0.7341379523277283\n"
     ]
    },
    {
     "name": "stderr",
     "output_type": "stream",
     "text": [
      "  0%|          | 0/1 [00:00<?, ?it/s]"
     ]
    },
    {
     "name": "stdout",
     "output_type": "stream",
     "text": [
      "EPOCH 033: critic_loss=15.7061 source_clf=0.1552,unweighted_source_clf=0.1559,clustering_centr=0.9075,sntg=4.8493\n"
     ]
    },
    {
     "name": "stderr",
     "output_type": "stream",
     "text": [
      "                                             "
     ]
    },
    {
     "name": "stdout",
     "output_type": "stream",
     "text": [
      "7    1241\n",
      "4    1023\n",
      "5     874\n",
      "3     859\n",
      "2     438\n",
      "1     352\n",
      "6     320\n",
      "0     276\n",
      "8     274\n",
      "9     143\n",
      "Name: 0, dtype: int64\n",
      "Accuracy on target data: 0.7329\n",
      "0.7341379523277283\n"
     ]
    },
    {
     "name": "stderr",
     "output_type": "stream",
     "text": [
      "\r"
     ]
    }
   ],
   "source": [
    "best_accu_t = 0.0\n",
    "# Weight update value\n",
    "weight_update = 1\n",
    "\n",
    "##initialize models\n",
    "model_feature_source = Net().to(device)\n",
    "model_feature_target = Net().to(device)\n",
    "model_clf = Classifier().to(device)\n",
    "path_to_model = 'trained_models/'\n",
    "model_feature_source.load_state_dict(torch.load(path_to_model+'source_feature_rd_128_SGD_sntg.pt'))\n",
    "model_feature_target.load_state_dict(torch.load(path_to_model+'source_feature_rd_128_SGD_sntg.pt'))\n",
    "model_clf.load_state_dict(torch.load(path_to_model+'source_clf_rd_128_SGD_sntg.pt'))\n",
    "\n",
    "half_batch = batch_size // 2\n",
    "##########source data########################\n",
    "source_dataset = load_SVHN_LS(target_num=1500,train_flag='train')\n",
    "source_loader = DataLoader(source_dataset, batch_size=half_batch, drop_last=True,\\\n",
    "                           shuffle=True, num_workers=0, pin_memory=True)\n",
    "\n",
    "##########target data########################\n",
    "target_dataset_label = load_mnist_LS(source_num=290,train_flag=False)\n",
    "\n",
    "target_loader = DataLoader(target_dataset_label, batch_size=half_batch,drop_last=True,\\\n",
    "                           shuffle=True, num_workers=1, pin_memory=True)\n",
    "\n",
    "##initialize model optimizers\n",
    "feature_source_optim = torch.optim.SGD(model_feature_source.parameters(), lr=lr,momentum=momentum) \n",
    "feature_target_optim = torch.optim.SGD(model_feature_target.parameters(), lr=lr,momentum=momentum) \n",
    "clf_optim = torch.optim.SGD(model_clf.parameters(), lr=lr,momentum=momentum) \n",
    "\n",
    "clf_criterion = nn.CrossEntropyLoss(reduction='none')\n",
    "clf_criterion_unweight = nn.CrossEntropyLoss()\n",
    "w1_loss = SamplesLoss(loss=\"sinkhorn\", p=1, blur=.05)\n",
    "soft_f = nn.Softmax(dim=1)\n",
    "\n",
    "##initialize clustering weights\n",
    "w_src = torch.ones(K,1,requires_grad=False).divide(K).to(device)\n",
    "w_tgt = torch.ones(K,1,requires_grad=False).divide(K).to(device)\n",
    "w_imp = torch.ones(K,1,requires_grad=False).to(device)\n",
    "\n",
    "##initialize losses\n",
    "mean_w1_loss_all = []\n",
    "mean_clf_loss_all = []\n",
    "mean_unweighted_clf_loss_all = []\n",
    "mean_centroid_loss_all = []\n",
    "mean_sntg_loss_all = []\n",
    "mean_accuracy_all = []\n",
    "\n",
    "for epoch in range(1, epochs+1):\n",
    "    source_batch_iterator = iter(source_loader)\n",
    "    target_batch_iterator = iter(target_loader)\n",
    "    len_dataloader = min(len(source_loader), len(target_loader))\n",
    "\n",
    "    total_unweight_clf_loss = 0\n",
    "    total_clf_loss = 0\n",
    "    total_centroid_loss = 0\n",
    "    total_sntg_loss = 0\n",
    "    total_w1_loss = 0\n",
    "\n",
    "\n",
    "    for i in range(len_dataloader):\n",
    "\n",
    "        data_source = source_batch_iterator.next()\n",
    "        source_x, source_y = data_source\n",
    "        data_target = target_batch_iterator.next()\n",
    "        target_x, _ = data_target\n",
    "        source_x, target_x = source_x.to(device), target_x.to(device)\n",
    "\n",
    "        set_requires_grad(model_feature_source, requires_grad=True)\n",
    "        set_requires_grad(model_feature_target, requires_grad=True)\n",
    "        set_requires_grad(model_clf, requires_grad=True)\n",
    "\n",
    "        ##extract latent features\n",
    "        source_y = source_y.to(torch.int64).to(device)\n",
    "        source_feature = model_feature_source(source_x)\n",
    "        target_feature = model_feature_target(target_x)\n",
    "        target_feature_2 = model_feature_target(target_x)\n",
    "\n",
    "        ##unweighted classification loss\n",
    "        source_preds = model_clf(source_feature)\n",
    "        clf_loss_unweight = clf_criterion(source_preds, source_y)\n",
    "        report_clf_loss_unweight = clf_criterion_unweight(source_preds, source_y)\n",
    "        target_preds = torch.argmax(model_clf(target_feature_2),1)\n",
    "\n",
    "        ##get clustering information\n",
    "        source_y = source_y.to(torch.int64).to(device)\n",
    "        cluster_s = F.one_hot(source_y, num_classes=K).float()\n",
    "        target_y = target_preds.to(torch.int64).to(device)\n",
    "        cluster_t = F.one_hot(target_y, num_classes=K).float()\n",
    "\n",
    "        ##weighted classification loss\n",
    "        weighted_clf_err = cluster_s * clf_loss_unweight.reshape(-1,1)\n",
    "        expected_clf_err = torch.mean(weighted_clf_err, dim=0)\n",
    "        clf_loss = torch.sum(expected_clf_err.reshape(K,1) * w_imp)\n",
    "\n",
    "        ##weighted domain invariant loss   \n",
    "        wasserstein_distance = 0\n",
    "        for cluster_id in range(K):\n",
    "            if (torch.sum(target_preds==cluster_id)!=0) and (torch.sum(source_y==cluster_id)!=0):\n",
    "                wasserstein_distance += w_tgt[cluster_id]*w1_loss(source_feature[source_y==cluster_id,],\\\n",
    "                                         target_feature[target_preds==cluster_id,]) \n",
    "\n",
    "        ##clustering loss\n",
    "        #L_orthogonal\n",
    "        source_sntg_loss = sntg_loss_func(cluster=cluster_s,feature=source_feature,LAMBDA=LAMBDA)\n",
    "        target_sntg_loss = sntg_loss_func(cluster=cluster_t,feature=target_feature,LAMBDA=LAMBDA)\n",
    "\n",
    "        ##calculate centroids\n",
    "        centroid_loss = centroid_loss_func(K,device,source_y,target_y,source_feature,target_feature)\n",
    "        sntg_loss = source_sntg_loss + target_sntg_loss\n",
    "\n",
    "\n",
    "        loss = lamb_clf*clf_loss + lamb_wd * wasserstein_distance + lamb_centroid*centroid_loss + lamb_sntg*sntg_loss\n",
    "\n",
    "        #update weights\n",
    "        with torch.no_grad():\n",
    "            w_src_batch = cluster_s.mean(dim=0) \n",
    "            w_tgt_batch = cluster_t.mean(dim=0)\n",
    "            w_src = w_src * (1 - weight_update) + w_src_batch.reshape(K,1) * weight_update\n",
    "            w_tgt = w_tgt * (1 - weight_update) + w_tgt_batch.reshape(K,1) * weight_update\n",
    "            w_imp = w_tgt/w_src\n",
    "\n",
    "\n",
    "        #backprop feature extraction+classifier\n",
    "        feature_source_optim.zero_grad()\n",
    "        feature_target_optim.zero_grad()\n",
    "        clf_optim.zero_grad()\n",
    "        loss.backward()\n",
    "        feature_source_optim.step()\n",
    "        feature_target_optim.step()\n",
    "        clf_optim.step()\n",
    "\n",
    "        total_w1_loss += wasserstein_distance.item()\n",
    "        total_unweight_clf_loss += report_clf_loss_unweight.item()\n",
    "        total_clf_loss += clf_loss.item()\n",
    "        total_centroid_loss += centroid_loss.item()\n",
    "        total_sntg_loss += sntg_loss.item()\n",
    "\n",
    "\n",
    "    mean_clf_loss = total_clf_loss/(len_dataloader)\n",
    "    mean_unweighted_clf_loss = total_unweight_clf_loss/(len_dataloader)\n",
    "    mean_centroid_loss = total_centroid_loss/(len_dataloader)\n",
    "    mean_sntg_loss = total_sntg_loss/(len_dataloader)\n",
    "    mean_w1_loss = total_w1_loss/(len_dataloader)\n",
    "\n",
    "\n",
    "    mean_clf_loss_all.append(mean_clf_loss)\n",
    "    mean_centroid_loss_all.append(mean_centroid_loss)\n",
    "    mean_sntg_loss_all.append(mean_sntg_loss)\n",
    "    mean_unweighted_clf_loss_all.append(mean_unweighted_clf_loss)\n",
    "    mean_w1_loss_all.append(mean_w1_loss)\n",
    "\n",
    "\n",
    "    tqdm.write(f'EPOCH {epoch:03d}: critic_loss={mean_w1_loss:.4f} source_clf={mean_clf_loss:.4f},unweighted_source_clf={mean_unweighted_clf_loss:.4f},clustering_centr={mean_centroid_loss:.4f},sntg={mean_sntg_loss:.4f}')\n",
    "\n",
    "\n",
    "    eval_dataset = target_dataset_label\n",
    "\n",
    "    eval_dataloader_all = DataLoader(eval_dataset, batch_size=len(eval_dataset), shuffle=False,\n",
    "                        drop_last=False, num_workers=0, pin_memory=True)\n",
    "\n",
    "    ##evaluate models on target domain##\n",
    "    set_requires_grad(model_feature_source, requires_grad=False)\n",
    "    set_requires_grad(model_feature_target, requires_grad=False)\n",
    "    set_requires_grad(model_clf, requires_grad=False)\n",
    "\n",
    "    total_accuracy = 0\n",
    "    with torch.no_grad():\n",
    "        for x, y_true in tqdm(eval_dataloader_all, leave=False):\n",
    "            x, y_true = x.to(device), y_true.to(device)\n",
    "            h_t = model_feature_target(x)\n",
    "            y_pred = model_clf(h_t)\n",
    "            cluster_t = F.one_hot(torch.argmax(y_pred,1),num_classes=K).float()\n",
    "            cluster_t = np.argmax(cluster_t.cpu().detach().numpy(), axis=1)\n",
    "            cluster_df = pd.DataFrame(cluster_t)\n",
    "            print(cluster_df.iloc[:,0].value_counts())\n",
    "            if epoch ==1:\n",
    "                cluster_df_true = pd.DataFrame(y_true.cpu().detach().numpy())\n",
    "                print(cluster_df_true.iloc[:,0].value_counts())\n",
    "            total_accuracy += (y_pred.max(1)[1] == y_true).float().mean().item()\n",
    "\n",
    "\n",
    "    mean_accuracy = total_accuracy / len(eval_dataloader_all)\n",
    "    mean_accuracy_all.append(mean_accuracy)\n",
    "    print(f'Accuracy on target data: {mean_accuracy:.4f}')\n",
    "\n",
    "    #save all the losses\n",
    "    #save_parameters(mean_clf_loss_all=mean_clf_loss_all,mean_unweighted_clf_loss_all=mean_unweighted_clf_loss_all,\\\n",
    "    #                mean_centroid_loss_all=mean_centroid_loss_all,mean_sntg_loss_all=mean_sntg_loss_all,\\\n",
    "    #                mean_accuracy_all=mean_accuracy_all, mean_w1_loss_all=mean_w1_loss_all,\\\n",
    "    #                key_words='clf1wd0.5c1s1'+str(momentum))\n",
    "\n",
    "\n",
    "    if mean_accuracy > best_accu_t:\n",
    "        best_accu_t = mean_accuracy\n",
    "        #save the model with the best performance\n",
    "        #torch.save(model_feature_source.state_dict(),'trained_models/wdgrl_source_clf1wd0.5c1s1_'+str(momentum)+'.pt')\n",
    "        #torch.save(model_feature_target.state_dict(),'trained_models/wdgrl_target_clf1wd0.5c1s1_'+str(momentum)+'.pt')\n",
    "        #torch.save(model_clf.state_dict(),'trained_models/wdgrl_clf_clf1wd0.5c1s1_'+str(momentum)+'.pt')\n",
    "\n",
    "    print(best_accu_t)\n",
    "\n",
    "\n"
   ]
  },
  {
   "cell_type": "code",
   "execution_count": null,
   "id": "848cf3e8-a294-48a1-986c-3cd7ef9a0299",
   "metadata": {},
   "outputs": [],
   "source": []
  },
  {
   "cell_type": "code",
   "execution_count": null,
   "id": "6007c4c7-8081-406c-9f34-f737ace00e7f",
   "metadata": {},
   "outputs": [],
   "source": []
  }
 ],
 "metadata": {
  "kernelspec": {
   "display_name": "Python 3",
   "language": "python",
   "name": "python3"
  },
  "language_info": {
   "codemirror_mode": {
    "name": "ipython",
    "version": 3
   },
   "file_extension": ".py",
   "mimetype": "text/x-python",
   "name": "python",
   "nbconvert_exporter": "python",
   "pygments_lexer": "ipython3",
   "version": "3.8.8"
  }
 },
 "nbformat": 4,
 "nbformat_minor": 5
}
