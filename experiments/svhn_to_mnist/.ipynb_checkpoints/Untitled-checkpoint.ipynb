{
 "cells": [
  {
   "cell_type": "code",
   "execution_count": 1,
   "id": "38ebbb27-9726-4c62-8bbc-a19e802afcae",
   "metadata": {},
   "outputs": [],
   "source": [
    "import argparse\n",
    "import sys\n",
    "sys.path.insert(0, '../../')\n",
    "import numpy as np\n",
    "import torch\n",
    "from torch.utils.data import DataLoader\n",
    "from torch.utils.data.sampler import SubsetRandomSampler\n",
    "from torchvision.datasets import MNIST\n",
    "from torchvision.transforms import Compose, ToTensor\n",
    "from tqdm import tqdm\n",
    "import torch.nn.functional as F\n",
    "import utils.config as config\n",
    "from models.model_svhn_mnist import *\n",
    "from data.mnist_mnistm_data import *\n",
    "from data.svhn import *\n",
    "sys.path.insert(0, '../../')"
   ]
  },
  {
   "cell_type": "code",
   "execution_count": 2,
   "id": "232bd0f1-c780-4cb2-9cbb-86c7f49616ff",
   "metadata": {},
   "outputs": [],
   "source": [
    "device = torch.device('cuda' if torch.cuda.is_available() else 'cpu')"
   ]
  },
  {
   "cell_type": "code",
   "execution_count": null,
   "id": "4ae452c2-00d9-4bb2-b4de-c897563b5d39",
   "metadata": {},
   "outputs": [],
   "source": [
    "class GrayscaleToRgb:\n",
    "    \"\"\"Convert a grayscale image to rgb\"\"\"\n",
    "    def __call__(self, image):\n",
    "        image = np.array(image)\n",
    "        image = np.dstack([image, image, image])\n",
    "        return Image.fromarray(image)"
   ]
  },
  {
   "cell_type": "code",
   "execution_count": 3,
   "id": "8137bda0-6b01-49d7-8784-6d6ba61c1cf1",
   "metadata": {},
   "outputs": [
    {
     "name": "stdout",
     "output_type": "stream",
     "text": [
      "Using downloaded and verified file: ../../data/svhn/train_32x32.mat\n"
     ]
    }
   ],
   "source": [
    "dataset = load_SVHN_LS(target_num=1500,train_flag='train')"
   ]
  },
  {
   "cell_type": "code",
   "execution_count": 4,
   "id": "415a93b6-09b7-47b8-a931-b4fdafdf0a10",
   "metadata": {},
   "outputs": [],
   "source": [
    "shuffled_indices = np.random.permutation(len(dataset))\n",
    "train_idx = shuffled_indices[:int(0.8*len(dataset))]\n",
    "val_idx = shuffled_indices[int(0.8*len(dataset)):]\n",
    "batch_size = 128 \n",
    "\n",
    "\n",
    "train_loader = DataLoader(dataset, batch_size=batch_size, drop_last=True,\n",
    "                          sampler=SubsetRandomSampler(train_idx),\n",
    "                          num_workers=0, pin_memory=True)\n",
    "val_loader = DataLoader(dataset, batch_size=batch_size, drop_last=False,\n",
    "                        sampler=SubsetRandomSampler(val_idx),\n",
    "                        num_workers=0, pin_memory=True)"
   ]
  },
  {
   "cell_type": "code",
   "execution_count": 5,
   "id": "7c4d023d-7149-4da7-80a8-08eaf7c7dffa",
   "metadata": {},
   "outputs": [],
   "source": [
    "total_loss = 0\n",
    "total_accuracy = 0\n",
    "LAMBDA = 30\n",
    "K = 10"
   ]
  },
  {
   "cell_type": "code",
   "execution_count": 6,
   "id": "9701cc71-cf63-4059-90bb-c12bf093d0e1",
   "metadata": {},
   "outputs": [
    {
     "data": {
      "text/plain": [
       "<torch.utils.data.dataloader.DataLoader at 0x7f56563bcbb0>"
      ]
     },
     "execution_count": 6,
     "metadata": {},
     "output_type": "execute_result"
    }
   ],
   "source": [
    "train_loader"
   ]
  },
  {
   "cell_type": "code",
   "execution_count": 7,
   "id": "e32761a9-1802-4d7e-ab44-68a69692111f",
   "metadata": {},
   "outputs": [],
   "source": [
    "for batch_idx, (x, y_true) in enumerate(train_loader):\n",
    "    x, y_true = x.to(device), y_true.to(device)"
   ]
  },
  {
   "cell_type": "code",
   "execution_count": null,
   "id": "4711e1cc-888d-4cd5-8b43-311de77aa5ee",
   "metadata": {},
   "outputs": [],
   "source": []
  }
 ],
 "metadata": {
  "kernelspec": {
   "display_name": "Python 3",
   "language": "python",
   "name": "python3"
  },
  "language_info": {
   "codemirror_mode": {
    "name": "ipython",
    "version": 3
   },
   "file_extension": ".py",
   "mimetype": "text/x-python",
   "name": "python",
   "nbconvert_exporter": "python",
   "pygments_lexer": "ipython3",
   "version": "3.8.8"
  }
 },
 "nbformat": 4,
 "nbformat_minor": 5
}
